{
  "nbformat": 4,
  "nbformat_minor": 0,
  "metadata": {
    "colab": {
      "name": "Moringa_Data_Science_Core_Independent_Project_Wk7_2022_05_Natasha_Sikinyi_Resubmission",
      "provenance": [],
      "authorship_tag": "ABX9TyP4fLbyyVjE6Ps7hTzIz+pi",
      "include_colab_link": true
    },
    "kernelspec": {
      "name": "python3",
      "display_name": "Python 3"
    },
    "language_info": {
      "name": "python"
    }
  },
  "cells": [
    {
      "cell_type": "markdown",
      "metadata": {
        "id": "view-in-github",
        "colab_type": "text"
      },
      "source": [
        "<a href=\"https://colab.research.google.com/github/NatashaSikinyi/Financial-Inclusion/blob/main/Moringa_Data_Science_Core_Independent_Project_Wk7_2022_05_Natasha_Sikinyi_Resubmission.ipynb\" target=\"_parent\"><img src=\"https://colab.research.google.com/assets/colab-badge.svg\" alt=\"Open In Colab\"/></a>"
      ]
    },
    {
      "cell_type": "markdown",
      "source": [
        "## **Financial Inclusion In East Africa**\n",
        "\n",
        "---\n"
      ],
      "metadata": {
        "id": "qnysSgWP6N9k"
      }
    },
    {
      "cell_type": "markdown",
      "source": [
        "**Project Objective**\n",
        "\n",
        "To figure out how to predict the individuals who are most likely to have and use a bank account\n",
        "\n",
        "\n",
        "**Metric for Success**\n",
        "\n",
        "Identify and select the features which can describe the characteristics of the group of individuals that are most likely to have or use a bank account.\n",
        "\n",
        "\n",
        "**Context**\n",
        "\n",
        "The solution will help provide an indication of the state of financial inclusion in Kenya, Rwanda, Tanzania, and Uganda, while providing insights into some of the key demographic factors that might drive individuals’ financial outcomes.\n",
        "\n",
        "**Experimental Design taken**\n",
        "\n",
        "The following are the steps taken in this analysis;\n",
        "\n",
        "\n",
        "\n",
        "1.   Loading dataset and appropriate libraries\n",
        "2.   Taking the necessary steps to clean the data\n",
        "3.   Carrying out univariate, bivariate and multivariate data analysis while dealing with any outliers and anomalies\n",
        "4.   Provide observation and recommendations on suitability of each of the tested models on solving the given challenge\n",
        "\n",
        "\n",
        "\n",
        "\n",
        "\n",
        "**Appropriatness of available data**\n",
        "\n",
        " The data given contains financial data with 13 columns and 23524 rows and is approriate for my analysis"
      ],
      "metadata": {
        "id": "vkPv61Zv6hKx"
      }
    },
    {
      "cell_type": "markdown",
      "source": [
        "## **Importing Libraries**"
      ],
      "metadata": {
        "id": "jCsapTCa7rcB"
      }
    },
    {
      "cell_type": "code",
      "source": [
        "import pandas as pd\n",
        "import numpy as np\n",
        "import seaborn as sn;sns.set_style(\"whitegrid\")\n",
        "import matplotlib.pyplot as plt\n",
        "%matplotlib inline\n",
        "\n",
        "import warnings\n",
        "warnings.filterwarnings('ignore')"
      ],
      "metadata": {
        "id": "dT82vCwR8cSY"
      },
      "execution_count": 113,
      "outputs": []
    },
    {
      "cell_type": "markdown",
      "source": [
        "## **Loading the Data**"
      ],
      "metadata": {
        "id": "m5dG-Hfg7sFm"
      }
    },
    {
      "cell_type": "code",
      "source": [
        "#loading the data\n",
        "FinData = pd.read_csv('http://bit.ly/FinancialDataset')\n",
        "FinData"
      ],
      "metadata": {
        "colab": {
          "base_uri": "https://localhost:8080/",
          "height": 658
        },
        "id": "WMncXRxD8sJY",
        "outputId": "3c6b0ea5-c07f-49c2-aa96-e0887a36ce34"
      },
      "execution_count": null,
      "outputs": [
        {
          "output_type": "execute_result",
          "data": {
            "text/plain": [
              "      country  year       uniqueid Has a Bank account Type of Location  \\\n",
              "0       Kenya  2018     uniqueid_1                Yes            Rural   \n",
              "1       Kenya  2018     uniqueid_2                 No            Rural   \n",
              "2       Kenya  2018     uniqueid_3                Yes            Urban   \n",
              "3       Kenya  2018     uniqueid_4                 No            Rural   \n",
              "4       Kenya  2018     uniqueid_5                 No            Urban   \n",
              "...       ...   ...            ...                ...              ...   \n",
              "23519  Uganda  2018  uniqueid_2113                 No            Rural   \n",
              "23520  Uganda  2018  uniqueid_2114                 No            Rural   \n",
              "23521  Uganda  2018  uniqueid_2115                 No            Rural   \n",
              "23522  Uganda  2018  uniqueid_2116                 No            Urban   \n",
              "23523  Uganda  2018  uniqueid_2117                 No            Rural   \n",
              "\n",
              "      Cell Phone Access  household_size  Respondent Age gender_of_respondent  \\\n",
              "0                   Yes             3.0            24.0               Female   \n",
              "1                    No             5.0            70.0               Female   \n",
              "2                   Yes             5.0            26.0                 Male   \n",
              "3                   Yes             5.0            34.0               Female   \n",
              "4                    No             8.0            26.0                 Male   \n",
              "...                 ...             ...             ...                  ...   \n",
              "23519               Yes             4.0            48.0               Female   \n",
              "23520               Yes             2.0            27.0               Female   \n",
              "23521               Yes             5.0            27.0               Female   \n",
              "23522               Yes             7.0            30.0               Female   \n",
              "23523               Yes            10.0            20.0                 Male   \n",
              "\n",
              "      The relathip with head           marital_status  \\\n",
              "0                     Spouse  Married/Living together   \n",
              "1          Head of Household                  Widowed   \n",
              "2             Other relative     Single/Never Married   \n",
              "3          Head of Household  Married/Living together   \n",
              "4                      Child     Single/Never Married   \n",
              "...                      ...                      ...   \n",
              "23519      Head of Household       Divorced/Seperated   \n",
              "23520      Head of Household     Single/Never Married   \n",
              "23521                 Parent                  Widowed   \n",
              "23522                 Parent       Divorced/Seperated   \n",
              "23523                  Child     Single/Never Married   \n",
              "\n",
              "                   Level of Educuation                Type of Job  \n",
              "0                  Secondary education              Self employed  \n",
              "1                  No formal education       Government Dependent  \n",
              "2      Vocational/Specialised training              Self employed  \n",
              "3                    Primary education  Formally employed Private  \n",
              "4                    Primary education        Informally employed  \n",
              "...                                ...                        ...  \n",
              "23519              No formal education               Other Income  \n",
              "23520              Secondary education               Other Income  \n",
              "23521                Primary education               Other Income  \n",
              "23522              Secondary education              Self employed  \n",
              "23523              Secondary education                  No Income  \n",
              "\n",
              "[23524 rows x 13 columns]"
            ],
            "text/html": [
              "\n",
              "  <div id=\"df-350ed05a-48c3-4bf8-b686-69d4331fac00\">\n",
              "    <div class=\"colab-df-container\">\n",
              "      <div>\n",
              "<style scoped>\n",
              "    .dataframe tbody tr th:only-of-type {\n",
              "        vertical-align: middle;\n",
              "    }\n",
              "\n",
              "    .dataframe tbody tr th {\n",
              "        vertical-align: top;\n",
              "    }\n",
              "\n",
              "    .dataframe thead th {\n",
              "        text-align: right;\n",
              "    }\n",
              "</style>\n",
              "<table border=\"1\" class=\"dataframe\">\n",
              "  <thead>\n",
              "    <tr style=\"text-align: right;\">\n",
              "      <th></th>\n",
              "      <th>country</th>\n",
              "      <th>year</th>\n",
              "      <th>uniqueid</th>\n",
              "      <th>Has a Bank account</th>\n",
              "      <th>Type of Location</th>\n",
              "      <th>Cell Phone Access</th>\n",
              "      <th>household_size</th>\n",
              "      <th>Respondent Age</th>\n",
              "      <th>gender_of_respondent</th>\n",
              "      <th>The relathip with head</th>\n",
              "      <th>marital_status</th>\n",
              "      <th>Level of Educuation</th>\n",
              "      <th>Type of Job</th>\n",
              "    </tr>\n",
              "  </thead>\n",
              "  <tbody>\n",
              "    <tr>\n",
              "      <th>0</th>\n",
              "      <td>Kenya</td>\n",
              "      <td>2018</td>\n",
              "      <td>uniqueid_1</td>\n",
              "      <td>Yes</td>\n",
              "      <td>Rural</td>\n",
              "      <td>Yes</td>\n",
              "      <td>3.0</td>\n",
              "      <td>24.0</td>\n",
              "      <td>Female</td>\n",
              "      <td>Spouse</td>\n",
              "      <td>Married/Living together</td>\n",
              "      <td>Secondary education</td>\n",
              "      <td>Self employed</td>\n",
              "    </tr>\n",
              "    <tr>\n",
              "      <th>1</th>\n",
              "      <td>Kenya</td>\n",
              "      <td>2018</td>\n",
              "      <td>uniqueid_2</td>\n",
              "      <td>No</td>\n",
              "      <td>Rural</td>\n",
              "      <td>No</td>\n",
              "      <td>5.0</td>\n",
              "      <td>70.0</td>\n",
              "      <td>Female</td>\n",
              "      <td>Head of Household</td>\n",
              "      <td>Widowed</td>\n",
              "      <td>No formal education</td>\n",
              "      <td>Government Dependent</td>\n",
              "    </tr>\n",
              "    <tr>\n",
              "      <th>2</th>\n",
              "      <td>Kenya</td>\n",
              "      <td>2018</td>\n",
              "      <td>uniqueid_3</td>\n",
              "      <td>Yes</td>\n",
              "      <td>Urban</td>\n",
              "      <td>Yes</td>\n",
              "      <td>5.0</td>\n",
              "      <td>26.0</td>\n",
              "      <td>Male</td>\n",
              "      <td>Other relative</td>\n",
              "      <td>Single/Never Married</td>\n",
              "      <td>Vocational/Specialised training</td>\n",
              "      <td>Self employed</td>\n",
              "    </tr>\n",
              "    <tr>\n",
              "      <th>3</th>\n",
              "      <td>Kenya</td>\n",
              "      <td>2018</td>\n",
              "      <td>uniqueid_4</td>\n",
              "      <td>No</td>\n",
              "      <td>Rural</td>\n",
              "      <td>Yes</td>\n",
              "      <td>5.0</td>\n",
              "      <td>34.0</td>\n",
              "      <td>Female</td>\n",
              "      <td>Head of Household</td>\n",
              "      <td>Married/Living together</td>\n",
              "      <td>Primary education</td>\n",
              "      <td>Formally employed Private</td>\n",
              "    </tr>\n",
              "    <tr>\n",
              "      <th>4</th>\n",
              "      <td>Kenya</td>\n",
              "      <td>2018</td>\n",
              "      <td>uniqueid_5</td>\n",
              "      <td>No</td>\n",
              "      <td>Urban</td>\n",
              "      <td>No</td>\n",
              "      <td>8.0</td>\n",
              "      <td>26.0</td>\n",
              "      <td>Male</td>\n",
              "      <td>Child</td>\n",
              "      <td>Single/Never Married</td>\n",
              "      <td>Primary education</td>\n",
              "      <td>Informally employed</td>\n",
              "    </tr>\n",
              "    <tr>\n",
              "      <th>...</th>\n",
              "      <td>...</td>\n",
              "      <td>...</td>\n",
              "      <td>...</td>\n",
              "      <td>...</td>\n",
              "      <td>...</td>\n",
              "      <td>...</td>\n",
              "      <td>...</td>\n",
              "      <td>...</td>\n",
              "      <td>...</td>\n",
              "      <td>...</td>\n",
              "      <td>...</td>\n",
              "      <td>...</td>\n",
              "      <td>...</td>\n",
              "    </tr>\n",
              "    <tr>\n",
              "      <th>23519</th>\n",
              "      <td>Uganda</td>\n",
              "      <td>2018</td>\n",
              "      <td>uniqueid_2113</td>\n",
              "      <td>No</td>\n",
              "      <td>Rural</td>\n",
              "      <td>Yes</td>\n",
              "      <td>4.0</td>\n",
              "      <td>48.0</td>\n",
              "      <td>Female</td>\n",
              "      <td>Head of Household</td>\n",
              "      <td>Divorced/Seperated</td>\n",
              "      <td>No formal education</td>\n",
              "      <td>Other Income</td>\n",
              "    </tr>\n",
              "    <tr>\n",
              "      <th>23520</th>\n",
              "      <td>Uganda</td>\n",
              "      <td>2018</td>\n",
              "      <td>uniqueid_2114</td>\n",
              "      <td>No</td>\n",
              "      <td>Rural</td>\n",
              "      <td>Yes</td>\n",
              "      <td>2.0</td>\n",
              "      <td>27.0</td>\n",
              "      <td>Female</td>\n",
              "      <td>Head of Household</td>\n",
              "      <td>Single/Never Married</td>\n",
              "      <td>Secondary education</td>\n",
              "      <td>Other Income</td>\n",
              "    </tr>\n",
              "    <tr>\n",
              "      <th>23521</th>\n",
              "      <td>Uganda</td>\n",
              "      <td>2018</td>\n",
              "      <td>uniqueid_2115</td>\n",
              "      <td>No</td>\n",
              "      <td>Rural</td>\n",
              "      <td>Yes</td>\n",
              "      <td>5.0</td>\n",
              "      <td>27.0</td>\n",
              "      <td>Female</td>\n",
              "      <td>Parent</td>\n",
              "      <td>Widowed</td>\n",
              "      <td>Primary education</td>\n",
              "      <td>Other Income</td>\n",
              "    </tr>\n",
              "    <tr>\n",
              "      <th>23522</th>\n",
              "      <td>Uganda</td>\n",
              "      <td>2018</td>\n",
              "      <td>uniqueid_2116</td>\n",
              "      <td>No</td>\n",
              "      <td>Urban</td>\n",
              "      <td>Yes</td>\n",
              "      <td>7.0</td>\n",
              "      <td>30.0</td>\n",
              "      <td>Female</td>\n",
              "      <td>Parent</td>\n",
              "      <td>Divorced/Seperated</td>\n",
              "      <td>Secondary education</td>\n",
              "      <td>Self employed</td>\n",
              "    </tr>\n",
              "    <tr>\n",
              "      <th>23523</th>\n",
              "      <td>Uganda</td>\n",
              "      <td>2018</td>\n",
              "      <td>uniqueid_2117</td>\n",
              "      <td>No</td>\n",
              "      <td>Rural</td>\n",
              "      <td>Yes</td>\n",
              "      <td>10.0</td>\n",
              "      <td>20.0</td>\n",
              "      <td>Male</td>\n",
              "      <td>Child</td>\n",
              "      <td>Single/Never Married</td>\n",
              "      <td>Secondary education</td>\n",
              "      <td>No Income</td>\n",
              "    </tr>\n",
              "  </tbody>\n",
              "</table>\n",
              "<p>23524 rows × 13 columns</p>\n",
              "</div>\n",
              "      <button class=\"colab-df-convert\" onclick=\"convertToInteractive('df-350ed05a-48c3-4bf8-b686-69d4331fac00')\"\n",
              "              title=\"Convert this dataframe to an interactive table.\"\n",
              "              style=\"display:none;\">\n",
              "        \n",
              "  <svg xmlns=\"http://www.w3.org/2000/svg\" height=\"24px\"viewBox=\"0 0 24 24\"\n",
              "       width=\"24px\">\n",
              "    <path d=\"M0 0h24v24H0V0z\" fill=\"none\"/>\n",
              "    <path d=\"M18.56 5.44l.94 2.06.94-2.06 2.06-.94-2.06-.94-.94-2.06-.94 2.06-2.06.94zm-11 1L8.5 8.5l.94-2.06 2.06-.94-2.06-.94L8.5 2.5l-.94 2.06-2.06.94zm10 10l.94 2.06.94-2.06 2.06-.94-2.06-.94-.94-2.06-.94 2.06-2.06.94z\"/><path d=\"M17.41 7.96l-1.37-1.37c-.4-.4-.92-.59-1.43-.59-.52 0-1.04.2-1.43.59L10.3 9.45l-7.72 7.72c-.78.78-.78 2.05 0 2.83L4 21.41c.39.39.9.59 1.41.59.51 0 1.02-.2 1.41-.59l7.78-7.78 2.81-2.81c.8-.78.8-2.07 0-2.86zM5.41 20L4 18.59l7.72-7.72 1.47 1.35L5.41 20z\"/>\n",
              "  </svg>\n",
              "      </button>\n",
              "      \n",
              "  <style>\n",
              "    .colab-df-container {\n",
              "      display:flex;\n",
              "      flex-wrap:wrap;\n",
              "      gap: 12px;\n",
              "    }\n",
              "\n",
              "    .colab-df-convert {\n",
              "      background-color: #E8F0FE;\n",
              "      border: none;\n",
              "      border-radius: 50%;\n",
              "      cursor: pointer;\n",
              "      display: none;\n",
              "      fill: #1967D2;\n",
              "      height: 32px;\n",
              "      padding: 0 0 0 0;\n",
              "      width: 32px;\n",
              "    }\n",
              "\n",
              "    .colab-df-convert:hover {\n",
              "      background-color: #E2EBFA;\n",
              "      box-shadow: 0px 1px 2px rgba(60, 64, 67, 0.3), 0px 1px 3px 1px rgba(60, 64, 67, 0.15);\n",
              "      fill: #174EA6;\n",
              "    }\n",
              "\n",
              "    [theme=dark] .colab-df-convert {\n",
              "      background-color: #3B4455;\n",
              "      fill: #D2E3FC;\n",
              "    }\n",
              "\n",
              "    [theme=dark] .colab-df-convert:hover {\n",
              "      background-color: #434B5C;\n",
              "      box-shadow: 0px 1px 3px 1px rgba(0, 0, 0, 0.15);\n",
              "      filter: drop-shadow(0px 1px 2px rgba(0, 0, 0, 0.3));\n",
              "      fill: #FFFFFF;\n",
              "    }\n",
              "  </style>\n",
              "\n",
              "      <script>\n",
              "        const buttonEl =\n",
              "          document.querySelector('#df-350ed05a-48c3-4bf8-b686-69d4331fac00 button.colab-df-convert');\n",
              "        buttonEl.style.display =\n",
              "          google.colab.kernel.accessAllowed ? 'block' : 'none';\n",
              "\n",
              "        async function convertToInteractive(key) {\n",
              "          const element = document.querySelector('#df-350ed05a-48c3-4bf8-b686-69d4331fac00');\n",
              "          const dataTable =\n",
              "            await google.colab.kernel.invokeFunction('convertToInteractive',\n",
              "                                                     [key], {});\n",
              "          if (!dataTable) return;\n",
              "\n",
              "          const docLinkHtml = 'Like what you see? Visit the ' +\n",
              "            '<a target=\"_blank\" href=https://colab.research.google.com/notebooks/data_table.ipynb>data table notebook</a>'\n",
              "            + ' to learn more about interactive tables.';\n",
              "          element.innerHTML = '';\n",
              "          dataTable['output_type'] = 'display_data';\n",
              "          await google.colab.output.renderOutput(dataTable, element);\n",
              "          const docLink = document.createElement('div');\n",
              "          docLink.innerHTML = docLinkHtml;\n",
              "          element.appendChild(docLink);\n",
              "        }\n",
              "      </script>\n",
              "    </div>\n",
              "  </div>\n",
              "  "
            ]
          },
          "metadata": {},
          "execution_count": 4
        }
      ]
    },
    {
      "cell_type": "markdown",
      "source": [
        "## **Checking the Data**"
      ],
      "metadata": {
        "id": "FiPjFfE07sI-"
      }
    },
    {
      "cell_type": "code",
      "source": [
        "#determing the number of records in our dataset\n",
        "\n",
        "FinData.shape"
      ],
      "metadata": {
        "colab": {
          "base_uri": "https://localhost:8080/"
        },
        "id": "-hYjMboZ9Hjq",
        "outputId": "b82d7be9-d41e-4a3e-c8c0-92cf32ccc7be"
      },
      "execution_count": null,
      "outputs": [
        {
          "output_type": "execute_result",
          "data": {
            "text/plain": [
              "(23524, 13)"
            ]
          },
          "metadata": {},
          "execution_count": 5
        }
      ]
    },
    {
      "cell_type": "code",
      "source": [
        "#checking for appropriate data type\n",
        "\n",
        "FinData.info()"
      ],
      "metadata": {
        "colab": {
          "base_uri": "https://localhost:8080/"
        },
        "id": "Qj6PBU3A9H_R",
        "outputId": "d95248b8-08e6-4dcd-ddab-b7ecff9d15e5"
      },
      "execution_count": null,
      "outputs": [
        {
          "output_type": "stream",
          "name": "stdout",
          "text": [
            "<class 'pandas.core.frame.DataFrame'>\n",
            "RangeIndex: 23524 entries, 0 to 23523\n",
            "Data columns (total 13 columns):\n",
            " #   Column                  Non-Null Count  Dtype  \n",
            "---  ------                  --------------  -----  \n",
            " 0   country                 23510 non-null  object \n",
            " 1   year                    23524 non-null  int64  \n",
            " 2   uniqueid                23524 non-null  object \n",
            " 3   Has a Bank account      23488 non-null  object \n",
            " 4   Type of Location        23509 non-null  object \n",
            " 5   Cell Phone Access       23513 non-null  object \n",
            " 6   household_size          23496 non-null  float64\n",
            " 7   Respondent Age          23490 non-null  float64\n",
            " 8   gender_of_respondent    23490 non-null  object \n",
            " 9   The relathip with head  23520 non-null  object \n",
            " 10  marital_status          23492 non-null  object \n",
            " 11  Level of Educuation     23495 non-null  object \n",
            " 12  Type of Job             23494 non-null  object \n",
            "dtypes: float64(2), int64(1), object(10)\n",
            "memory usage: 2.3+ MB\n"
          ]
        }
      ]
    },
    {
      "cell_type": "code",
      "source": [
        "#describing our data\n",
        "\n",
        "FinData.describe()"
      ],
      "metadata": {
        "colab": {
          "base_uri": "https://localhost:8080/"
        },
        "id": "B77keOes9ISs",
        "outputId": "2808b113-b931-473b-f4e6-939c93b53519"
      },
      "execution_count": null,
      "outputs": [
        {
          "output_type": "stream",
          "name": "stdout",
          "text": [
            "               year  household_size  Respondent Age\n",
            "count  23524.000000    23496.000000    23490.000000\n",
            "mean    2016.979000        3.681818       38.804300\n",
            "std        0.899669        2.279933       16.519996\n",
            "min     2016.000000        0.000000       16.000000\n",
            "25%     2016.000000        2.000000       26.000000\n",
            "50%     2017.000000        3.000000       35.000000\n",
            "75%     2018.000000        5.000000       49.000000\n",
            "max     2056.000000       21.000000      100.000000\n"
          ]
        }
      ]
    },
    {
      "cell_type": "code",
      "source": [
        "#inspecting the columns\n",
        "\n",
        "FinData.columns"
      ],
      "metadata": {
        "colab": {
          "base_uri": "https://localhost:8080/"
        },
        "id": "zp-NK7lb2Wzm",
        "outputId": "02b51f06-43ab-4a9d-82fb-07bbc2ae0940"
      },
      "execution_count": null,
      "outputs": [
        {
          "output_type": "execute_result",
          "data": {
            "text/plain": [
              "Index(['country', 'year', 'uniqueid', 'Has a Bank account', 'Type of Location',\n",
              "       'Cell Phone Access', 'household_size', 'Respondent Age',\n",
              "       'gender_of_respondent', 'The relathip with head', 'marital_status',\n",
              "       'Level of Educuation', 'Type of Job'],\n",
              "      dtype='object')"
            ]
          },
          "metadata": {},
          "execution_count": 10
        }
      ]
    },
    {
      "cell_type": "code",
      "source": [
        "#checking for missing values\n",
        "\n",
        "FinData.isnull().sum()"
      ],
      "metadata": {
        "colab": {
          "base_uri": "https://localhost:8080/"
        },
        "id": "70HWmH0545xU",
        "outputId": "c085e0f3-fcf1-4bc6-fdcd-ea32124ab438"
      },
      "execution_count": null,
      "outputs": [
        {
          "output_type": "execute_result",
          "data": {
            "text/plain": [
              "country                   14\n",
              "year                       0\n",
              "uniqueid                   0\n",
              "Has a Bank account        36\n",
              "Type of Location          15\n",
              "Cell Phone Access         11\n",
              "household_size            28\n",
              "Respondent Age            34\n",
              "gender_of_respondent      34\n",
              "The relathip with head     4\n",
              "marital_status            32\n",
              "Level of Educuation       29\n",
              "Type of Job               30\n",
              "dtype: int64"
            ]
          },
          "metadata": {},
          "execution_count": 11
        }
      ]
    },
    {
      "cell_type": "markdown",
      "source": [
        "## **Tidying the Dataset**"
      ],
      "metadata": {
        "id": "Y05doX3X7sYM"
      }
    },
    {
      "cell_type": "code",
      "source": [
        "#Dropping missing values\n",
        "FinData = FinData.dropna()\n",
        "\n",
        "#veryfing that  there are no missing values\n",
        "FinData.isnull().sum()"
      ],
      "metadata": {
        "colab": {
          "base_uri": "https://localhost:8080/"
        },
        "id": "6CpdIIjJ9Jey",
        "outputId": "58306736-22c9-4d7b-c8c4-bea8bdcf8827"
      },
      "execution_count": null,
      "outputs": [
        {
          "output_type": "execute_result",
          "data": {
            "text/plain": [
              "country                   0\n",
              "year                      0\n",
              "uniqueid                  0\n",
              "Has a Bank account        0\n",
              "Type of Location          0\n",
              "Cell Phone Access         0\n",
              "household_size            0\n",
              "Respondent Age            0\n",
              "gender_of_respondent      0\n",
              "The relathip with head    0\n",
              "marital_status            0\n",
              "Level of Educuation       0\n",
              "Type of Job               0\n",
              "dtype: int64"
            ]
          },
          "metadata": {},
          "execution_count": 31
        }
      ]
    },
    {
      "cell_type": "code",
      "source": [
        "#renaming the misspelled words in the colums\n",
        "\n",
        "FinData.rename(columns = {'The relathip with head': 'The relationship with head', 'Level of Educuation': 'Level of Education', 'Respondent Age': 'Age'}, inplace = True)\n",
        "\n",
        "#veryfying\n",
        "FinData.columns"
      ],
      "metadata": {
        "colab": {
          "base_uri": "https://localhost:8080/"
        },
        "id": "LQ19F7Uu9Jhj",
        "outputId": "3b0e60eb-cdd0-4438-c1ed-834648924ca0"
      },
      "execution_count": null,
      "outputs": [
        {
          "output_type": "execute_result",
          "data": {
            "text/plain": [
              "Index(['country', 'year', 'uniqueid', 'Has a Bank account', 'Type of Location',\n",
              "       'Cell Phone Access', 'household_size', 'Age', 'gender_of_respondent',\n",
              "       'The relationship with head', 'marital_status', 'Level of Education',\n",
              "       'Type of Job'],\n",
              "      dtype='object')"
            ]
          },
          "metadata": {},
          "execution_count": 47
        }
      ]
    },
    {
      "cell_type": "code",
      "source": [
        "#checking for outliers\n",
        "\n",
        "#age of the respondents\n",
        "\n",
        "sns.boxplot(x=FinData['Age'])\n",
        "plt.show()"
      ],
      "metadata": {
        "colab": {
          "base_uri": "https://localhost:8080/",
          "height": 279
        },
        "id": "LoID5pcT9Jkf",
        "outputId": "ed093252-dc7b-4ba7-f411-1b107b170ac9"
      },
      "execution_count": null,
      "outputs": [
        {
          "output_type": "display_data",
          "data": {
            "text/plain": [
              "<Figure size 432x288 with 1 Axes>"
            ],
            "image/png": "[encoded data removed]"
          },
          "metadata": {
            "needs_background": "light"
          }
        }
      ]
    },
    {
      "cell_type": "markdown",
      "source": [
        "respondents between the age range of 25 and 50 have bank accounts as compared to other ages\n"
      ],
      "metadata": {
        "id": "BYlEsLRi_QTg"
      }
    },
    {
      "cell_type": "code",
      "source": [
        "#checking for anomalies\n",
        "\n",
        "print(FinData.nunique())"
      ],
      "metadata": {
        "colab": {
          "base_uri": "https://localhost:8080/"
        },
        "id": "vEZTH54O9Jre",
        "outputId": "8d65c253-a878-4ab9-8cbd-ebb60cac7717"
      },
      "execution_count": null,
      "outputs": [
        {
          "output_type": "stream",
          "name": "stdout",
          "text": [
            "country                          4\n",
            "year                             6\n",
            "uniqueid                      8687\n",
            "Has a Bank account               2\n",
            "Type of Location                 2\n",
            "Cell Phone Access                2\n",
            "household_size                  21\n",
            "Age                             85\n",
            "gender_of_respondent             2\n",
            "The relationship with head       6\n",
            "marital_status                   5\n",
            "Level of Education               7\n",
            "Type of Job                     10\n",
            "dtype: int64\n"
          ]
        }
      ]
    },
    {
      "cell_type": "code",
      "source": [
        "q1_age = FinData['household_size'].quantile(.25)\n",
        "q3_age = FinData['household_size'].quantile(.75)\n",
        "iqr_age = q3_age - q1_age\n",
        "\n",
        "q1_size = FinData['Age'].quantile(.25)\n",
        "q3_size = FinData['Age'].quantile(.75)\n",
        "iqr_size = q3_size - q1_size\n",
        "\n",
        "q1_year = FinData['year'].quantile(.25)\n",
        "q3_year = FinData['year'].quantile(.75)\n",
        "iqr_year = q3_year - q1_year\n",
        "\n",
        "print(iqr_age,iqr_size,iqr_year)"
      ],
      "metadata": {
        "colab": {
          "base_uri": "https://localhost:8080/"
        },
        "id": "gqqI6-U_Ab40",
        "outputId": "35cdf7d1-4b12-4f8c-9a9b-cd524ef74f64"
      },
      "execution_count": null,
      "outputs": [
        {
          "output_type": "stream",
          "name": "stdout",
          "text": [
            "3.0 23.0 2.0\n"
          ]
        }
      ]
    },
    {
      "cell_type": "markdown",
      "source": [
        "## **Exploratory Data Analysis**"
      ],
      "metadata": {
        "id": "Tt1SjOVtBkPS"
      }
    },
    {
      "cell_type": "markdown",
      "source": [
        "###**Univariate Analysis**"
      ],
      "metadata": {
        "id": "KfWk_2n2BtvP"
      }
    },
    {
      "cell_type": "code",
      "source": [
        "#descriptive analysis\n",
        "\n",
        "#the most common number in every household\n",
        "\n",
        "FinData[\"household_size\"].mode()"
      ],
      "metadata": {
        "colab": {
          "base_uri": "https://localhost:8080/"
        },
        "id": "xi1XYs92DUgc",
        "outputId": "514b92d3-ded2-43d4-8e94-41bb0bef7ac8"
      },
      "execution_count": 71,
      "outputs": [
        {
          "output_type": "execute_result",
          "data": {
            "text/plain": [
              "0    2.0\n",
              "dtype: float64"
            ]
          },
          "metadata": {},
          "execution_count": 71
        }
      ]
    },
    {
      "cell_type": "code",
      "source": [
        "#the median age of respondants\n",
        "\n",
        "FinData[\"Age\"].median()"
      ],
      "metadata": {
        "colab": {
          "base_uri": "https://localhost:8080/"
        },
        "id": "yEL0Oy2tDU2F",
        "outputId": "68275e65-11a8-458a-be90-268ec11734f3"
      },
      "execution_count": 72,
      "outputs": [
        {
          "output_type": "execute_result",
          "data": {
            "text/plain": [
              "35.0"
            ]
          },
          "metadata": {},
          "execution_count": 72
        }
      ]
    },
    {
      "cell_type": "code",
      "source": [
        "#the average age of all respondants\n",
        "\n",
        "FinData[\"Age\"].mean()"
      ],
      "metadata": {
        "colab": {
          "base_uri": "https://localhost:8080/"
        },
        "id": "mjD0fE6QDVB0",
        "outputId": "6860cf41-f533-4835-bbeb-e644b9e0909a"
      },
      "execution_count": 73,
      "outputs": [
        {
          "output_type": "execute_result",
          "data": {
            "text/plain": [
              "38.80550914621085"
            ]
          },
          "metadata": {},
          "execution_count": 73
        }
      ]
    },
    {
      "cell_type": "code",
      "source": [
        "#Measure of dispersion\n",
        "\n",
        "#the skewness of the respondent's age\n",
        "\n",
        "FinData[\"Age\"].skew()"
      ],
      "metadata": {
        "colab": {
          "base_uri": "https://localhost:8080/"
        },
        "id": "U96Iv2T8DVFS",
        "outputId": "93184df4-5ade-4572-9d8e-c4f2cd199c03"
      },
      "execution_count": 74,
      "outputs": [
        {
          "output_type": "execute_result",
          "data": {
            "text/plain": [
              "0.840661747532081"
            ]
          },
          "metadata": {},
          "execution_count": 74
        }
      ]
    },
    {
      "cell_type": "code",
      "source": [
        "FinData['Has a Bank account'].value_counts().plot.bar(title=\"Bank Account distribution\")"
      ],
      "metadata": {
        "colab": {
          "base_uri": "https://localhost:8080/",
          "height": 304
        },
        "id": "-vJqoBoQDVIv",
        "outputId": "8a9720de-fb69-4260-f3c5-56e67aff74ec"
      },
      "execution_count": 75,
      "outputs": [
        {
          "output_type": "execute_result",
          "data": {
            "text/plain": [
              "<matplotlib.axes._subplots.AxesSubplot at 0x7fb8fe3e3a90>"
            ]
          },
          "metadata": {},
          "execution_count": 75
        },
        {
          "output_type": "display_data",
          "data": {
            "text/plain": [
              "<Figure size 432x288 with 1 Axes>"
            ],
            "image/png": "[encoded data removed]"
          },
          "metadata": {
            "needs_background": "light"
          }
        }
      ]
    },
    {
      "cell_type": "code",
      "source": [
        "FinData['gender_of_respondent'].value_counts().plot.bar(title=\"Gender of Respondent\")"
      ],
      "metadata": {
        "colab": {
          "base_uri": "https://localhost:8080/",
          "height": 324
        },
        "id": "2PaG9EZKDVQy",
        "outputId": "d2c8fa62-f6f7-4991-a941-54398aa36690"
      },
      "execution_count": 76,
      "outputs": [
        {
          "output_type": "execute_result",
          "data": {
            "text/plain": [
              "<matplotlib.axes._subplots.AxesSubplot at 0x7fb8fff68690>"
            ]
          },
          "metadata": {},
          "execution_count": 76
        },
        {
          "output_type": "display_data",
          "data": {
            "text/plain": [
              "<Figure size 432x288 with 1 Axes>"
            ],
            "image/png": "[encoded data removed]"
          },
          "metadata": {
            "needs_background": "light"
          }
        }
      ]
    },
    {
      "cell_type": "code",
      "source": [
        "FinData['Type of Job'].value_counts().plot.bar(title=\"Type of Job distribution\")"
      ],
      "metadata": {
        "colab": {
          "base_uri": "https://localhost:8080/",
          "height": 449
        },
        "id": "W2Z_ezhvDVip",
        "outputId": "c67bd7f5-cb63-44a1-bbce-a375955d40c1"
      },
      "execution_count": 77,
      "outputs": [
        {
          "output_type": "execute_result",
          "data": {
            "text/plain": [
              "<matplotlib.axes._subplots.AxesSubplot at 0x7fb9000d4f90>"
            ]
          },
          "metadata": {},
          "execution_count": 77
        },
        {
          "output_type": "display_data",
          "data": {
            "text/plain": [
              "<Figure size 432x288 with 1 Axes>"
            ],
            "image/png": "[encoded data removed]"
          },
          "metadata": {
            "needs_background": "light"
          }
        }
      ]
    },
    {
      "cell_type": "code",
      "source": [
        "plt.figure(figsize=(13, 4))\n",
        "sns.countplot(FinData.marital_status.dropna(), order = FinData.marital_status.value_counts().index);"
      ],
      "metadata": {
        "colab": {
          "base_uri": "https://localhost:8080/",
          "height": 335
        },
        "id": "sAwF4zSnDVw6",
        "outputId": "f8b5cb2e-0986-4f01-c45c-228ee5b06e7b"
      },
      "execution_count": 78,
      "outputs": [
        {
          "output_type": "stream",
          "name": "stderr",
          "text": [
            "/usr/local/lib/python3.7/dist-packages/seaborn/_decorators.py:43: FutureWarning: Pass the following variable as a keyword arg: x. From version 0.12, the only valid positional argument will be `data`, and passing other arguments without an explicit keyword will result in an error or misinterpretation.\n",
            "  FutureWarning\n"
          ]
        },
        {
          "output_type": "display_data",
          "data": {
            "text/plain": [
              "<Figure size 936x288 with 1 Axes>"
            ],
            "image/png": "[encoded data removed]"
          },
          "metadata": {
            "needs_background": "light"
          }
        }
      ]
    },
    {
      "cell_type": "code",
      "source": [
        "sns.distplot(FinData.household_size, kde=False)\n",
        "plt.title('Size of household')\n",
        "plt.show();"
      ],
      "metadata": {
        "colab": {
          "base_uri": "https://localhost:8080/",
          "height": 351
        },
        "id": "2OybA31GaXS4",
        "outputId": "96906e38-96c7-4520-c3be-611613281503"
      },
      "execution_count": 79,
      "outputs": [
        {
          "output_type": "stream",
          "name": "stderr",
          "text": [
            "/usr/local/lib/python3.7/dist-packages/seaborn/distributions.py:2619: FutureWarning: `distplot` is a deprecated function and will be removed in a future version. Please adapt your code to use either `displot` (a figure-level function with similar flexibility) or `histplot` (an axes-level function for histograms).\n",
            "  warnings.warn(msg, FutureWarning)\n"
          ]
        },
        {
          "output_type": "display_data",
          "data": {
            "text/plain": [
              "<Figure size 432x288 with 1 Axes>"
            ],
            "image/png": "[encoded data removed]"
          },
          "metadata": {
            "needs_background": "light"
          }
        }
      ]
    },
    {
      "cell_type": "code",
      "source": [
        "FinData['Level of Education'].value_counts().plot.bar(title=\"Level of Education distribution\")"
      ],
      "metadata": {
        "colab": {
          "base_uri": "https://localhost:8080/",
          "height": 442
        },
        "id": "Cz0LDKHWaXdV",
        "outputId": "8952a072-65d3-47c7-8bb6-b44df37366ab"
      },
      "execution_count": 80,
      "outputs": [
        {
          "output_type": "execute_result",
          "data": {
            "text/plain": [
              "<matplotlib.axes._subplots.AxesSubplot at 0x7fb8fe614790>"
            ]
          },
          "metadata": {},
          "execution_count": 80
        },
        {
          "output_type": "display_data",
          "data": {
            "text/plain": [
              "<Figure size 432x288 with 1 Axes>"
            ],
            "image/png": "[encoded data removed]"
          },
          "metadata": {
            "needs_background": "light"
          }
        }
      ]
    },
    {
      "cell_type": "code",
      "source": [
        "#Filtering data from the dataset\n",
        "\n",
        "#Kenya\n",
        "ke = FinData[FinData['country']=='Kenya']\n",
        "ke"
      ],
      "metadata": {
        "id": "AoPTQcFYaXlo",
        "colab": {
          "base_uri": "https://localhost:8080/",
          "height": 693
        },
        "outputId": "c1e2d296-fe91-427d-f29b-7c727edc3f27"
      },
      "execution_count": 82,
      "outputs": [
        {
          "output_type": "execute_result",
          "data": {
            "text/plain": [
              "     country  year       uniqueid Has a Bank account Type of Location  \\\n",
              "0      Kenya  2018     uniqueid_1                Yes            Rural   \n",
              "1      Kenya  2018     uniqueid_2                 No            Rural   \n",
              "2      Kenya  2018     uniqueid_3                Yes            Urban   \n",
              "3      Kenya  2018     uniqueid_4                 No            Rural   \n",
              "4      Kenya  2018     uniqueid_5                 No            Urban   \n",
              "...      ...   ...            ...                ...              ...   \n",
              "6063   Kenya  2018  uniqueid_6067                 No            Rural   \n",
              "6064   Kenya  2018  uniqueid_6068                 No            Urban   \n",
              "6065   Kenya  2018  uniqueid_6069                 No            Rural   \n",
              "6066   Kenya  2018  uniqueid_6070                 No            Rural   \n",
              "6067   Kenya  2018  uniqueid_6071                 No            Rural   \n",
              "\n",
              "     Cell Phone Access  household_size   Age gender_of_respondent  \\\n",
              "0                  Yes             3.0  24.0               Female   \n",
              "1                   No             5.0  70.0               Female   \n",
              "2                  Yes             5.0  26.0                 Male   \n",
              "3                  Yes             5.0  34.0               Female   \n",
              "4                   No             8.0  26.0                 Male   \n",
              "...                ...             ...   ...                  ...   \n",
              "6063               Yes             4.0  26.0               Female   \n",
              "6064                No             5.0  17.0               Female   \n",
              "6065               Yes             9.0  30.0               Female   \n",
              "6066               Yes             3.0  52.0                 Male   \n",
              "6067               Yes             2.0  75.0               Female   \n",
              "\n",
              "     The relationship with head           marital_status  \\\n",
              "0                        Spouse  Married/Living together   \n",
              "1             Head of Household                  Widowed   \n",
              "2                Other relative     Single/Never Married   \n",
              "3             Head of Household  Married/Living together   \n",
              "4                         Child     Single/Never Married   \n",
              "...                         ...                      ...   \n",
              "6063          Head of Household  Married/Living together   \n",
              "6064                      Child     Single/Never Married   \n",
              "6065                     Spouse  Married/Living together   \n",
              "6066          Head of Household  Married/Living together   \n",
              "6067                     Spouse  Married/Living together   \n",
              "\n",
              "                   Level of Education                Type of Job  \n",
              "0                 Secondary education              Self employed  \n",
              "1                 No formal education       Government Dependent  \n",
              "2     Vocational/Specialised training              Self employed  \n",
              "3                   Primary education  Formally employed Private  \n",
              "4                   Primary education        Informally employed  \n",
              "...                               ...                        ...  \n",
              "6063                Primary education       Remittance Dependent  \n",
              "6064              Secondary education       Remittance Dependent  \n",
              "6065              No formal education        Farming and Fishing  \n",
              "6066                Primary education              Self employed  \n",
              "6067                Primary education        Farming and Fishing  \n",
              "\n",
              "[6064 rows x 13 columns]"
            ],
            "text/html": [
              "\n",
              "  <div id=\"df-396fe3e8-2594-4c86-b780-e57d4e56a6ed\">\n",
              "    <div class=\"colab-df-container\">\n",
              "      <div>\n",
              "<style scoped>\n",
              "    .dataframe tbody tr th:only-of-type {\n",
              "        vertical-align: middle;\n",
              "    }\n",
              "\n",
              "    .dataframe tbody tr th {\n",
              "        vertical-align: top;\n",
              "    }\n",
              "\n",
              "    .dataframe thead th {\n",
              "        text-align: right;\n",
              "    }\n",
              "</style>\n",
              "<table border=\"1\" class=\"dataframe\">\n",
              "  <thead>\n",
              "    <tr style=\"text-align: right;\">\n",
              "      <th></th>\n",
              "      <th>country</th>\n",
              "      <th>year</th>\n",
              "      <th>uniqueid</th>\n",
              "      <th>Has a Bank account</th>\n",
              "      <th>Type of Location</th>\n",
              "      <th>Cell Phone Access</th>\n",
              "      <th>household_size</th>\n",
              "      <th>Age</th>\n",
              "      <th>gender_of_respondent</th>\n",
              "      <th>The relationship with head</th>\n",
              "      <th>marital_status</th>\n",
              "      <th>Level of Education</th>\n",
              "      <th>Type of Job</th>\n",
              "    </tr>\n",
              "  </thead>\n",
              "  <tbody>\n",
              "    <tr>\n",
              "      <th>0</th>\n",
              "      <td>Kenya</td>\n",
              "      <td>2018</td>\n",
              "      <td>uniqueid_1</td>\n",
              "      <td>Yes</td>\n",
              "      <td>Rural</td>\n",
              "      <td>Yes</td>\n",
              "      <td>3.0</td>\n",
              "      <td>24.0</td>\n",
              "      <td>Female</td>\n",
              "      <td>Spouse</td>\n",
              "      <td>Married/Living together</td>\n",
              "      <td>Secondary education</td>\n",
              "      <td>Self employed</td>\n",
              "    </tr>\n",
              "    <tr>\n",
              "      <th>1</th>\n",
              "      <td>Kenya</td>\n",
              "      <td>2018</td>\n",
              "      <td>uniqueid_2</td>\n",
              "      <td>No</td>\n",
              "      <td>Rural</td>\n",
              "      <td>No</td>\n",
              "      <td>5.0</td>\n",
              "      <td>70.0</td>\n",
              "      <td>Female</td>\n",
              "      <td>Head of Household</td>\n",
              "      <td>Widowed</td>\n",
              "      <td>No formal education</td>\n",
              "      <td>Government Dependent</td>\n",
              "    </tr>\n",
              "    <tr>\n",
              "      <th>2</th>\n",
              "      <td>Kenya</td>\n",
              "      <td>2018</td>\n",
              "      <td>uniqueid_3</td>\n",
              "      <td>Yes</td>\n",
              "      <td>Urban</td>\n",
              "      <td>Yes</td>\n",
              "      <td>5.0</td>\n",
              "      <td>26.0</td>\n",
              "      <td>Male</td>\n",
              "      <td>Other relative</td>\n",
              "      <td>Single/Never Married</td>\n",
              "      <td>Vocational/Specialised training</td>\n",
              "      <td>Self employed</td>\n",
              "    </tr>\n",
              "    <tr>\n",
              "      <th>3</th>\n",
              "      <td>Kenya</td>\n",
              "      <td>2018</td>\n",
              "      <td>uniqueid_4</td>\n",
              "      <td>No</td>\n",
              "      <td>Rural</td>\n",
              "      <td>Yes</td>\n",
              "      <td>5.0</td>\n",
              "      <td>34.0</td>\n",
              "      <td>Female</td>\n",
              "      <td>Head of Household</td>\n",
              "      <td>Married/Living together</td>\n",
              "      <td>Primary education</td>\n",
              "      <td>Formally employed Private</td>\n",
              "    </tr>\n",
              "    <tr>\n",
              "      <th>4</th>\n",
              "      <td>Kenya</td>\n",
              "      <td>2018</td>\n",
              "      <td>uniqueid_5</td>\n",
              "      <td>No</td>\n",
              "      <td>Urban</td>\n",
              "      <td>No</td>\n",
              "      <td>8.0</td>\n",
              "      <td>26.0</td>\n",
              "      <td>Male</td>\n",
              "      <td>Child</td>\n",
              "      <td>Single/Never Married</td>\n",
              "      <td>Primary education</td>\n",
              "      <td>Informally employed</td>\n",
              "    </tr>\n",
              "    <tr>\n",
              "      <th>...</th>\n",
              "      <td>...</td>\n",
              "      <td>...</td>\n",
              "      <td>...</td>\n",
              "      <td>...</td>\n",
              "      <td>...</td>\n",
              "      <td>...</td>\n",
              "      <td>...</td>\n",
              "      <td>...</td>\n",
              "      <td>...</td>\n",
              "      <td>...</td>\n",
              "      <td>...</td>\n",
              "      <td>...</td>\n",
              "      <td>...</td>\n",
              "    </tr>\n",
              "    <tr>\n",
              "      <th>6063</th>\n",
              "      <td>Kenya</td>\n",
              "      <td>2018</td>\n",
              "      <td>uniqueid_6067</td>\n",
              "      <td>No</td>\n",
              "      <td>Rural</td>\n",
              "      <td>Yes</td>\n",
              "      <td>4.0</td>\n",
              "      <td>26.0</td>\n",
              "      <td>Female</td>\n",
              "      <td>Head of Household</td>\n",
              "      <td>Married/Living together</td>\n",
              "      <td>Primary education</td>\n",
              "      <td>Remittance Dependent</td>\n",
              "    </tr>\n",
              "    <tr>\n",
              "      <th>6064</th>\n",
              "      <td>Kenya</td>\n",
              "      <td>2018</td>\n",
              "      <td>uniqueid_6068</td>\n",
              "      <td>No</td>\n",
              "      <td>Urban</td>\n",
              "      <td>No</td>\n",
              "      <td>5.0</td>\n",
              "      <td>17.0</td>\n",
              "      <td>Female</td>\n",
              "      <td>Child</td>\n",
              "      <td>Single/Never Married</td>\n",
              "      <td>Secondary education</td>\n",
              "      <td>Remittance Dependent</td>\n",
              "    </tr>\n",
              "    <tr>\n",
              "      <th>6065</th>\n",
              "      <td>Kenya</td>\n",
              "      <td>2018</td>\n",
              "      <td>uniqueid_6069</td>\n",
              "      <td>No</td>\n",
              "      <td>Rural</td>\n",
              "      <td>Yes</td>\n",
              "      <td>9.0</td>\n",
              "      <td>30.0</td>\n",
              "      <td>Female</td>\n",
              "      <td>Spouse</td>\n",
              "      <td>Married/Living together</td>\n",
              "      <td>No formal education</td>\n",
              "      <td>Farming and Fishing</td>\n",
              "    </tr>\n",
              "    <tr>\n",
              "      <th>6066</th>\n",
              "      <td>Kenya</td>\n",
              "      <td>2018</td>\n",
              "      <td>uniqueid_6070</td>\n",
              "      <td>No</td>\n",
              "      <td>Rural</td>\n",
              "      <td>Yes</td>\n",
              "      <td>3.0</td>\n",
              "      <td>52.0</td>\n",
              "      <td>Male</td>\n",
              "      <td>Head of Household</td>\n",
              "      <td>Married/Living together</td>\n",
              "      <td>Primary education</td>\n",
              "      <td>Self employed</td>\n",
              "    </tr>\n",
              "    <tr>\n",
              "      <th>6067</th>\n",
              "      <td>Kenya</td>\n",
              "      <td>2018</td>\n",
              "      <td>uniqueid_6071</td>\n",
              "      <td>No</td>\n",
              "      <td>Rural</td>\n",
              "      <td>Yes</td>\n",
              "      <td>2.0</td>\n",
              "      <td>75.0</td>\n",
              "      <td>Female</td>\n",
              "      <td>Spouse</td>\n",
              "      <td>Married/Living together</td>\n",
              "      <td>Primary education</td>\n",
              "      <td>Farming and Fishing</td>\n",
              "    </tr>\n",
              "  </tbody>\n",
              "</table>\n",
              "<p>6064 rows × 13 columns</p>\n",
              "</div>\n",
              "      <button class=\"colab-df-convert\" onclick=\"convertToInteractive('df-396fe3e8-2594-4c86-b780-e57d4e56a6ed')\"\n",
              "              title=\"Convert this dataframe to an interactive table.\"\n",
              "              style=\"display:none;\">\n",
              "        \n",
              "  <svg xmlns=\"http://www.w3.org/2000/svg\" height=\"24px\"viewBox=\"0 0 24 24\"\n",
              "       width=\"24px\">\n",
              "    <path d=\"M0 0h24v24H0V0z\" fill=\"none\"/>\n",
              "    <path d=\"M18.56 5.44l.94 2.06.94-2.06 2.06-.94-2.06-.94-.94-2.06-.94 2.06-2.06.94zm-11 1L8.5 8.5l.94-2.06 2.06-.94-2.06-.94L8.5 2.5l-.94 2.06-2.06.94zm10 10l.94 2.06.94-2.06 2.06-.94-2.06-.94-.94-2.06-.94 2.06-2.06.94z\"/><path d=\"M17.41 7.96l-1.37-1.37c-.4-.4-.92-.59-1.43-.59-.52 0-1.04.2-1.43.59L10.3 9.45l-7.72 7.72c-.78.78-.78 2.05 0 2.83L4 21.41c.39.39.9.59 1.41.59.51 0 1.02-.2 1.41-.59l7.78-7.78 2.81-2.81c.8-.78.8-2.07 0-2.86zM5.41 20L4 18.59l7.72-7.72 1.47 1.35L5.41 20z\"/>\n",
              "  </svg>\n",
              "      </button>\n",
              "      \n",
              "  <style>\n",
              "    .colab-df-container {\n",
              "      display:flex;\n",
              "      flex-wrap:wrap;\n",
              "      gap: 12px;\n",
              "    }\n",
              "\n",
              "    .colab-df-convert {\n",
              "      background-color: #E8F0FE;\n",
              "      border: none;\n",
              "      border-radius: 50%;\n",
              "      cursor: pointer;\n",
              "      display: none;\n",
              "      fill: #1967D2;\n",
              "      height: 32px;\n",
              "      padding: 0 0 0 0;\n",
              "      width: 32px;\n",
              "    }\n",
              "\n",
              "    .colab-df-convert:hover {\n",
              "      background-color: #E2EBFA;\n",
              "      box-shadow: 0px 1px 2px rgba(60, 64, 67, 0.3), 0px 1px 3px 1px rgba(60, 64, 67, 0.15);\n",
              "      fill: #174EA6;\n",
              "    }\n",
              "\n",
              "    [theme=dark] .colab-df-convert {\n",
              "      background-color: #3B4455;\n",
              "      fill: #D2E3FC;\n",
              "    }\n",
              "\n",
              "    [theme=dark] .colab-df-convert:hover {\n",
              "      background-color: #434B5C;\n",
              "      box-shadow: 0px 1px 3px 1px rgba(0, 0, 0, 0.15);\n",
              "      filter: drop-shadow(0px 1px 2px rgba(0, 0, 0, 0.3));\n",
              "      fill: #FFFFFF;\n",
              "    }\n",
              "  </style>\n",
              "\n",
              "      <script>\n",
              "        const buttonEl =\n",
              "          document.querySelector('#df-396fe3e8-2594-4c86-b780-e57d4e56a6ed button.colab-df-convert');\n",
              "        buttonEl.style.display =\n",
              "          google.colab.kernel.accessAllowed ? 'block' : 'none';\n",
              "\n",
              "        async function convertToInteractive(key) {\n",
              "          const element = document.querySelector('#df-396fe3e8-2594-4c86-b780-e57d4e56a6ed');\n",
              "          const dataTable =\n",
              "            await google.colab.kernel.invokeFunction('convertToInteractive',\n",
              "                                                     [key], {});\n",
              "          if (!dataTable) return;\n",
              "\n",
              "          const docLinkHtml = 'Like what you see? Visit the ' +\n",
              "            '<a target=\"_blank\" href=https://colab.research.google.com/notebooks/data_table.ipynb>data table notebook</a>'\n",
              "            + ' to learn more about interactive tables.';\n",
              "          element.innerHTML = '';\n",
              "          dataTable['output_type'] = 'display_data';\n",
              "          await google.colab.output.renderOutput(dataTable, element);\n",
              "          const docLink = document.createElement('div');\n",
              "          docLink.innerHTML = docLinkHtml;\n",
              "          element.appendChild(docLink);\n",
              "        }\n",
              "      </script>\n",
              "    </div>\n",
              "  </div>\n",
              "  "
            ]
          },
          "metadata": {},
          "execution_count": 82
        }
      ]
    },
    {
      "cell_type": "code",
      "source": [
        "ke['Has a Bank account'].value_counts().plot.bar(title=\"Has Bank account in Kenya\")"
      ],
      "metadata": {
        "colab": {
          "base_uri": "https://localhost:8080/",
          "height": 304
        },
        "id": "BXYnE2BSo0ji",
        "outputId": "63b6631f-47c6-4057-ef5f-6bc773c03da0"
      },
      "execution_count": 95,
      "outputs": [
        {
          "output_type": "execute_result",
          "data": {
            "text/plain": [
              "<matplotlib.axes._subplots.AxesSubplot at 0x7fb8fe37e490>"
            ]
          },
          "metadata": {},
          "execution_count": 95
        },
        {
          "output_type": "display_data",
          "data": {
            "text/plain": [
              "<Figure size 432x288 with 1 Axes>"
            ],
            "image/png": "[encoded data removed]"
          },
          "metadata": {
            "needs_background": "light"
          }
        }
      ]
    },
    {
      "cell_type": "code",
      "source": [
        "ke['Level of Education'].value_counts().plot.bar(title=\"Education Level in Kenya\")"
      ],
      "metadata": {
        "colab": {
          "base_uri": "https://localhost:8080/",
          "height": 442
        },
        "id": "vsRS3also0mR",
        "outputId": "4d5e6686-af21-4233-c789-beecb38fbfb3"
      },
      "execution_count": 96,
      "outputs": [
        {
          "output_type": "execute_result",
          "data": {
            "text/plain": [
              "<matplotlib.axes._subplots.AxesSubplot at 0x7fb8fe1e1f90>"
            ]
          },
          "metadata": {},
          "execution_count": 96
        },
        {
          "output_type": "display_data",
          "data": {
            "text/plain": [
              "<Figure size 432x288 with 1 Axes>"
            ],
            "image/png": "[encoded data removed]"
          },
          "metadata": {
            "needs_background": "light"
          }
        }
      ]
    },
    {
      "cell_type": "code",
      "source": [
        "ke['Type of Job'].value_counts().plot.bar(title=\"Job Type distribution in Kenya\")"
      ],
      "metadata": {
        "colab": {
          "base_uri": "https://localhost:8080/",
          "height": 449
        },
        "id": "miEWW1Fzo0gz",
        "outputId": "359d3187-3385-4e27-9e04-9adf233827a8"
      },
      "execution_count": 93,
      "outputs": [
        {
          "output_type": "execute_result",
          "data": {
            "text/plain": [
              "<matplotlib.axes._subplots.AxesSubplot at 0x7fb8fe1ed810>"
            ]
          },
          "metadata": {},
          "execution_count": 93
        },
        {
          "output_type": "display_data",
          "data": {
            "text/plain": [
              "<Figure size 432x288 with 1 Axes>"
            ],
            "image/png": "[encoded data removed]"
          },
          "metadata": {
            "needs_background": "light"
          }
        }
      ]
    },
    {
      "cell_type": "code",
      "source": [
        "ke['Type of Location'].value_counts().plot.bar(title=\"Distribution of Location in Kenya\")"
      ],
      "metadata": {
        "colab": {
          "base_uri": "https://localhost:8080/",
          "height": 319
        },
        "id": "fxchTwFOo0o5",
        "outputId": "257312a5-1dd1-44ca-babb-595a8bd06347"
      },
      "execution_count": 97,
      "outputs": [
        {
          "output_type": "execute_result",
          "data": {
            "text/plain": [
              "<matplotlib.axes._subplots.AxesSubplot at 0x7fb8fe6b2350>"
            ]
          },
          "metadata": {},
          "execution_count": 97
        },
        {
          "output_type": "display_data",
          "data": {
            "text/plain": [
              "<Figure size 432x288 with 1 Axes>"
            ],
            "image/png": "[encoded data removed]"
          },
          "metadata": {
            "needs_background": "light"
          }
        }
      ]
    },
    {
      "cell_type": "markdown",
      "source": [
        "**Observations**\n",
        "\n",
        "A larger part of the respondants do not own bank accounts in Kenya\n",
        "\n",
        "Most of the respondents have primary level of education followed by secondary\n",
        "\n",
        "Most of the respondants in Kenya are farmers and/or fisherpeople while the least are government dependant\n",
        "\n",
        "A larger number of the respondants live in the rural areas.\n"
      ],
      "metadata": {
        "id": "NgzcXLyusF08"
      }
    },
    {
      "cell_type": "code",
      "source": [
        "#Tanzania\n",
        "tz = FinData[FinData['country']=='Tanzania']\n",
        "tz"
      ],
      "metadata": {
        "colab": {
          "base_uri": "https://localhost:8080/",
          "height": 710
        },
        "id": "KjYojOUeo0d9",
        "outputId": "057e590f-ec75-4f6c-c3a8-50750a9b91b3"
      },
      "execution_count": 98,
      "outputs": [
        {
          "output_type": "execute_result",
          "data": {
            "text/plain": [
              "        country  year       uniqueid Has a Bank account Type of Location  \\\n",
              "14803  Tanzania  2017     uniqueid_1                 No            Rural   \n",
              "14804  Tanzania  2017     uniqueid_2                 No            Urban   \n",
              "14805  Tanzania  2017     uniqueid_3                 No            Urban   \n",
              "14806  Tanzania  2017     uniqueid_4                 No            Urban   \n",
              "14807  Tanzania  2017     uniqueid_5                Yes            Urban   \n",
              "...         ...   ...            ...                ...              ...   \n",
              "21418  Tanzania  2017  uniqueid_6633                 No            Rural   \n",
              "21419  Tanzania  2017  uniqueid_6634                 No            Urban   \n",
              "21420  Tanzania  2017  uniqueid_6635                 No            Rural   \n",
              "21421  Tanzania  2017  uniqueid_6636                 No            Urban   \n",
              "21422  Tanzania  2017  uniqueid_6637                 No            Urban   \n",
              "\n",
              "      Cell Phone Access  household_size    Age gender_of_respondent  \\\n",
              "14803               Yes             1.0   22.0               Female   \n",
              "14804                No             2.0  100.0                 Male   \n",
              "14805               Yes             3.0   19.0               Female   \n",
              "14806                No             4.0   21.0               Female   \n",
              "14807               Yes             3.0   24.0               Female   \n",
              "...                 ...             ...    ...                  ...   \n",
              "21418                No             2.0   25.0                 Male   \n",
              "21419               Yes             2.0   52.0                 Male   \n",
              "21420                No             5.0   16.0               Female   \n",
              "21421               Yes             2.0   48.0                 Male   \n",
              "21422               Yes             1.0   25.0                 Male   \n",
              "\n",
              "      The relationship with head           marital_status  \\\n",
              "14803                      Child       Divorced/Seperated   \n",
              "14804          Head of Household     Single/Never Married   \n",
              "14805          Head of Household                  Widowed   \n",
              "14806                     Parent     Single/Never Married   \n",
              "14807                     Parent       Divorced/Seperated   \n",
              "...                          ...                      ...   \n",
              "21418          Head of Household     Single/Never Married   \n",
              "21419          Head of Household     Single/Never Married   \n",
              "21420        Other non-relatives       Divorced/Seperated   \n",
              "21421          Head of Household     Single/Never Married   \n",
              "21422          Head of Household  Married/Living together   \n",
              "\n",
              "        Level of Education                Type of Job  \n",
              "14803  Secondary education                  No Income  \n",
              "14804  No formal education              Self employed  \n",
              "14805  No formal education                  No Income  \n",
              "14806    Primary education       Remittance Dependent  \n",
              "14807   Tertiary education  Formally employed Private  \n",
              "...                    ...                        ...  \n",
              "21418    Primary education              Self employed  \n",
              "21419    Primary education              Self employed  \n",
              "21420    Primary education  Formally employed Private  \n",
              "21421    Primary education              Self employed  \n",
              "21422    Primary education              Self employed  \n",
              "\n",
              "[6500 rows x 13 columns]"
            ],
            "text/html": [
              "\n",
              "  <div id=\"df-6744e1f4-4160-44a3-ac4d-0f2c797148cd\">\n",
              "    <div class=\"colab-df-container\">\n",
              "      <div>\n",
              "<style scoped>\n",
              "    .dataframe tbody tr th:only-of-type {\n",
              "        vertical-align: middle;\n",
              "    }\n",
              "\n",
              "    .dataframe tbody tr th {\n",
              "        vertical-align: top;\n",
              "    }\n",
              "\n",
              "    .dataframe thead th {\n",
              "        text-align: right;\n",
              "    }\n",
              "</style>\n",
              "<table border=\"1\" class=\"dataframe\">\n",
              "  <thead>\n",
              "    <tr style=\"text-align: right;\">\n",
              "      <th></th>\n",
              "      <th>country</th>\n",
              "      <th>year</th>\n",
              "      <th>uniqueid</th>\n",
              "      <th>Has a Bank account</th>\n",
              "      <th>Type of Location</th>\n",
              "      <th>Cell Phone Access</th>\n",
              "      <th>household_size</th>\n",
              "      <th>Age</th>\n",
              "      <th>gender_of_respondent</th>\n",
              "      <th>The relationship with head</th>\n",
              "      <th>marital_status</th>\n",
              "      <th>Level of Education</th>\n",
              "      <th>Type of Job</th>\n",
              "    </tr>\n",
              "  </thead>\n",
              "  <tbody>\n",
              "    <tr>\n",
              "      <th>14803</th>\n",
              "      <td>Tanzania</td>\n",
              "      <td>2017</td>\n",
              "      <td>uniqueid_1</td>\n",
              "      <td>No</td>\n",
              "      <td>Rural</td>\n",
              "      <td>Yes</td>\n",
              "      <td>1.0</td>\n",
              "      <td>22.0</td>\n",
              "      <td>Female</td>\n",
              "      <td>Child</td>\n",
              "      <td>Divorced/Seperated</td>\n",
              "      <td>Secondary education</td>\n",
              "      <td>No Income</td>\n",
              "    </tr>\n",
              "    <tr>\n",
              "      <th>14804</th>\n",
              "      <td>Tanzania</td>\n",
              "      <td>2017</td>\n",
              "      <td>uniqueid_2</td>\n",
              "      <td>No</td>\n",
              "      <td>Urban</td>\n",
              "      <td>No</td>\n",
              "      <td>2.0</td>\n",
              "      <td>100.0</td>\n",
              "      <td>Male</td>\n",
              "      <td>Head of Household</td>\n",
              "      <td>Single/Never Married</td>\n",
              "      <td>No formal education</td>\n",
              "      <td>Self employed</td>\n",
              "    </tr>\n",
              "    <tr>\n",
              "      <th>14805</th>\n",
              "      <td>Tanzania</td>\n",
              "      <td>2017</td>\n",
              "      <td>uniqueid_3</td>\n",
              "      <td>No</td>\n",
              "      <td>Urban</td>\n",
              "      <td>Yes</td>\n",
              "      <td>3.0</td>\n",
              "      <td>19.0</td>\n",
              "      <td>Female</td>\n",
              "      <td>Head of Household</td>\n",
              "      <td>Widowed</td>\n",
              "      <td>No formal education</td>\n",
              "      <td>No Income</td>\n",
              "    </tr>\n",
              "    <tr>\n",
              "      <th>14806</th>\n",
              "      <td>Tanzania</td>\n",
              "      <td>2017</td>\n",
              "      <td>uniqueid_4</td>\n",
              "      <td>No</td>\n",
              "      <td>Urban</td>\n",
              "      <td>No</td>\n",
              "      <td>4.0</td>\n",
              "      <td>21.0</td>\n",
              "      <td>Female</td>\n",
              "      <td>Parent</td>\n",
              "      <td>Single/Never Married</td>\n",
              "      <td>Primary education</td>\n",
              "      <td>Remittance Dependent</td>\n",
              "    </tr>\n",
              "    <tr>\n",
              "      <th>14807</th>\n",
              "      <td>Tanzania</td>\n",
              "      <td>2017</td>\n",
              "      <td>uniqueid_5</td>\n",
              "      <td>Yes</td>\n",
              "      <td>Urban</td>\n",
              "      <td>Yes</td>\n",
              "      <td>3.0</td>\n",
              "      <td>24.0</td>\n",
              "      <td>Female</td>\n",
              "      <td>Parent</td>\n",
              "      <td>Divorced/Seperated</td>\n",
              "      <td>Tertiary education</td>\n",
              "      <td>Formally employed Private</td>\n",
              "    </tr>\n",
              "    <tr>\n",
              "      <th>...</th>\n",
              "      <td>...</td>\n",
              "      <td>...</td>\n",
              "      <td>...</td>\n",
              "      <td>...</td>\n",
              "      <td>...</td>\n",
              "      <td>...</td>\n",
              "      <td>...</td>\n",
              "      <td>...</td>\n",
              "      <td>...</td>\n",
              "      <td>...</td>\n",
              "      <td>...</td>\n",
              "      <td>...</td>\n",
              "      <td>...</td>\n",
              "    </tr>\n",
              "    <tr>\n",
              "      <th>21418</th>\n",
              "      <td>Tanzania</td>\n",
              "      <td>2017</td>\n",
              "      <td>uniqueid_6633</td>\n",
              "      <td>No</td>\n",
              "      <td>Rural</td>\n",
              "      <td>No</td>\n",
              "      <td>2.0</td>\n",
              "      <td>25.0</td>\n",
              "      <td>Male</td>\n",
              "      <td>Head of Household</td>\n",
              "      <td>Single/Never Married</td>\n",
              "      <td>Primary education</td>\n",
              "      <td>Self employed</td>\n",
              "    </tr>\n",
              "    <tr>\n",
              "      <th>21419</th>\n",
              "      <td>Tanzania</td>\n",
              "      <td>2017</td>\n",
              "      <td>uniqueid_6634</td>\n",
              "      <td>No</td>\n",
              "      <td>Urban</td>\n",
              "      <td>Yes</td>\n",
              "      <td>2.0</td>\n",
              "      <td>52.0</td>\n",
              "      <td>Male</td>\n",
              "      <td>Head of Household</td>\n",
              "      <td>Single/Never Married</td>\n",
              "      <td>Primary education</td>\n",
              "      <td>Self employed</td>\n",
              "    </tr>\n",
              "    <tr>\n",
              "      <th>21420</th>\n",
              "      <td>Tanzania</td>\n",
              "      <td>2017</td>\n",
              "      <td>uniqueid_6635</td>\n",
              "      <td>No</td>\n",
              "      <td>Rural</td>\n",
              "      <td>No</td>\n",
              "      <td>5.0</td>\n",
              "      <td>16.0</td>\n",
              "      <td>Female</td>\n",
              "      <td>Other non-relatives</td>\n",
              "      <td>Divorced/Seperated</td>\n",
              "      <td>Primary education</td>\n",
              "      <td>Formally employed Private</td>\n",
              "    </tr>\n",
              "    <tr>\n",
              "      <th>21421</th>\n",
              "      <td>Tanzania</td>\n",
              "      <td>2017</td>\n",
              "      <td>uniqueid_6636</td>\n",
              "      <td>No</td>\n",
              "      <td>Urban</td>\n",
              "      <td>Yes</td>\n",
              "      <td>2.0</td>\n",
              "      <td>48.0</td>\n",
              "      <td>Male</td>\n",
              "      <td>Head of Household</td>\n",
              "      <td>Single/Never Married</td>\n",
              "      <td>Primary education</td>\n",
              "      <td>Self employed</td>\n",
              "    </tr>\n",
              "    <tr>\n",
              "      <th>21422</th>\n",
              "      <td>Tanzania</td>\n",
              "      <td>2017</td>\n",
              "      <td>uniqueid_6637</td>\n",
              "      <td>No</td>\n",
              "      <td>Urban</td>\n",
              "      <td>Yes</td>\n",
              "      <td>1.0</td>\n",
              "      <td>25.0</td>\n",
              "      <td>Male</td>\n",
              "      <td>Head of Household</td>\n",
              "      <td>Married/Living together</td>\n",
              "      <td>Primary education</td>\n",
              "      <td>Self employed</td>\n",
              "    </tr>\n",
              "  </tbody>\n",
              "</table>\n",
              "<p>6500 rows × 13 columns</p>\n",
              "</div>\n",
              "      <button class=\"colab-df-convert\" onclick=\"convertToInteractive('df-6744e1f4-4160-44a3-ac4d-0f2c797148cd')\"\n",
              "              title=\"Convert this dataframe to an interactive table.\"\n",
              "              style=\"display:none;\">\n",
              "        \n",
              "  <svg xmlns=\"http://www.w3.org/2000/svg\" height=\"24px\"viewBox=\"0 0 24 24\"\n",
              "       width=\"24px\">\n",
              "    <path d=\"M0 0h24v24H0V0z\" fill=\"none\"/>\n",
              "    <path d=\"M18.56 5.44l.94 2.06.94-2.06 2.06-.94-2.06-.94-.94-2.06-.94 2.06-2.06.94zm-11 1L8.5 8.5l.94-2.06 2.06-.94-2.06-.94L8.5 2.5l-.94 2.06-2.06.94zm10 10l.94 2.06.94-2.06 2.06-.94-2.06-.94-.94-2.06-.94 2.06-2.06.94z\"/><path d=\"M17.41 7.96l-1.37-1.37c-.4-.4-.92-.59-1.43-.59-.52 0-1.04.2-1.43.59L10.3 9.45l-7.72 7.72c-.78.78-.78 2.05 0 2.83L4 21.41c.39.39.9.59 1.41.59.51 0 1.02-.2 1.41-.59l7.78-7.78 2.81-2.81c.8-.78.8-2.07 0-2.86zM5.41 20L4 18.59l7.72-7.72 1.47 1.35L5.41 20z\"/>\n",
              "  </svg>\n",
              "      </button>\n",
              "      \n",
              "  <style>\n",
              "    .colab-df-container {\n",
              "      display:flex;\n",
              "      flex-wrap:wrap;\n",
              "      gap: 12px;\n",
              "    }\n",
              "\n",
              "    .colab-df-convert {\n",
              "      background-color: #E8F0FE;\n",
              "      border: none;\n",
              "      border-radius: 50%;\n",
              "      cursor: pointer;\n",
              "      display: none;\n",
              "      fill: #1967D2;\n",
              "      height: 32px;\n",
              "      padding: 0 0 0 0;\n",
              "      width: 32px;\n",
              "    }\n",
              "\n",
              "    .colab-df-convert:hover {\n",
              "      background-color: #E2EBFA;\n",
              "      box-shadow: 0px 1px 2px rgba(60, 64, 67, 0.3), 0px 1px 3px 1px rgba(60, 64, 67, 0.15);\n",
              "      fill: #174EA6;\n",
              "    }\n",
              "\n",
              "    [theme=dark] .colab-df-convert {\n",
              "      background-color: #3B4455;\n",
              "      fill: #D2E3FC;\n",
              "    }\n",
              "\n",
              "    [theme=dark] .colab-df-convert:hover {\n",
              "      background-color: #434B5C;\n",
              "      box-shadow: 0px 1px 3px 1px rgba(0, 0, 0, 0.15);\n",
              "      filter: drop-shadow(0px 1px 2px rgba(0, 0, 0, 0.3));\n",
              "      fill: #FFFFFF;\n",
              "    }\n",
              "  </style>\n",
              "\n",
              "      <script>\n",
              "        const buttonEl =\n",
              "          document.querySelector('#df-6744e1f4-4160-44a3-ac4d-0f2c797148cd button.colab-df-convert');\n",
              "        buttonEl.style.display =\n",
              "          google.colab.kernel.accessAllowed ? 'block' : 'none';\n",
              "\n",
              "        async function convertToInteractive(key) {\n",
              "          const element = document.querySelector('#df-6744e1f4-4160-44a3-ac4d-0f2c797148cd');\n",
              "          const dataTable =\n",
              "            await google.colab.kernel.invokeFunction('convertToInteractive',\n",
              "                                                     [key], {});\n",
              "          if (!dataTable) return;\n",
              "\n",
              "          const docLinkHtml = 'Like what you see? Visit the ' +\n",
              "            '<a target=\"_blank\" href=https://colab.research.google.com/notebooks/data_table.ipynb>data table notebook</a>'\n",
              "            + ' to learn more about interactive tables.';\n",
              "          element.innerHTML = '';\n",
              "          dataTable['output_type'] = 'display_data';\n",
              "          await google.colab.output.renderOutput(dataTable, element);\n",
              "          const docLink = document.createElement('div');\n",
              "          docLink.innerHTML = docLinkHtml;\n",
              "          element.appendChild(docLink);\n",
              "        }\n",
              "      </script>\n",
              "    </div>\n",
              "  </div>\n",
              "  "
            ]
          },
          "metadata": {},
          "execution_count": 98
        }
      ]
    },
    {
      "cell_type": "code",
      "source": [
        "tz['Has a Bank account'].value_counts().plot.bar(title=\"Bank accounts in Tanzania\")"
      ],
      "metadata": {
        "colab": {
          "base_uri": "https://localhost:8080/",
          "height": 304
        },
        "id": "ZY_bnCc0o0r3",
        "outputId": "695bcef1-6a21-437f-9487-e46216f8ab15"
      },
      "execution_count": 99,
      "outputs": [
        {
          "output_type": "execute_result",
          "data": {
            "text/plain": [
              "<matplotlib.axes._subplots.AxesSubplot at 0x7fb8fe248cd0>"
            ]
          },
          "metadata": {},
          "execution_count": 99
        },
        {
          "output_type": "display_data",
          "data": {
            "text/plain": [
              "<Figure size 432x288 with 1 Axes>"
            ],
            "image/png": "[encoded data removed]"
          },
          "metadata": {
            "needs_background": "light"
          }
        }
      ]
    },
    {
      "cell_type": "code",
      "source": [
        "tz['Level of Education'].value_counts().plot.bar(title=\"Level of Education in Tanzania\")"
      ],
      "metadata": {
        "colab": {
          "base_uri": "https://localhost:8080/",
          "height": 442
        },
        "id": "j0qeKfsKo0um",
        "outputId": "73dfce8a-6b5b-49e3-b9d7-4490691324d4"
      },
      "execution_count": 100,
      "outputs": [
        {
          "output_type": "execute_result",
          "data": {
            "text/plain": [
              "<matplotlib.axes._subplots.AxesSubplot at 0x7fb8fe6388d0>"
            ]
          },
          "metadata": {},
          "execution_count": 100
        },
        {
          "output_type": "display_data",
          "data": {
            "text/plain": [
              "<Figure size 432x288 with 1 Axes>"
            ],
            "image/png": "[encoded data removed]"
          },
          "metadata": {
            "needs_background": "light"
          }
        }
      ]
    },
    {
      "cell_type": "code",
      "source": [
        "tz['Type of Job'].value_counts().plot.bar(title=\"Job distribution in Tanzania\")"
      ],
      "metadata": {
        "colab": {
          "base_uri": "https://localhost:8080/",
          "height": 421
        },
        "id": "JPbPhYQHo0xj",
        "outputId": "d24f0f2b-a562-4fc3-8f8b-5ab87ad89dac"
      },
      "execution_count": 102,
      "outputs": [
        {
          "output_type": "execute_result",
          "data": {
            "text/plain": [
              "<matplotlib.axes._subplots.AxesSubplot at 0x7fb8fe65bf90>"
            ]
          },
          "metadata": {},
          "execution_count": 102
        },
        {
          "output_type": "display_data",
          "data": {
            "text/plain": [
              "<Figure size 432x288 with 1 Axes>"
            ],
            "image/png": "[encoded data removed]"
          },
          "metadata": {
            "needs_background": "light"
          }
        }
      ]
    },
    {
      "cell_type": "code",
      "source": [
        "tz['Type of Location'].value_counts().plot.bar(title=\"Location distribution in Tanzania\")"
      ],
      "metadata": {
        "colab": {
          "base_uri": "https://localhost:8080/",
          "height": 319
        },
        "id": "4RfMbJodo01F",
        "outputId": "dd18f1e7-29ad-45b5-bcc7-5514887d6a61"
      },
      "execution_count": 101,
      "outputs": [
        {
          "output_type": "execute_result",
          "data": {
            "text/plain": [
              "<matplotlib.axes._subplots.AxesSubplot at 0x7fb8fe1d3790>"
            ]
          },
          "metadata": {},
          "execution_count": 101
        },
        {
          "output_type": "display_data",
          "data": {
            "text/plain": [
              "<Figure size 432x288 with 1 Axes>"
            ],
            "image/png": "[encoded data removed]"
          },
          "metadata": {
            "needs_background": "light"
          }
        }
      ]
    },
    {
      "cell_type": "markdown",
      "source": [
        "**Observations**\n",
        "\n",
        "A very large number of respondents do not have bank accounts in Tanzania\n",
        "\n",
        "More respondants from Tanzania have tertiary education than secondary education as compared to Kenya\n",
        "\n",
        "Most respondants in Tanzania are self employed\n",
        "\n",
        "A greater number of respondants from Tanzania hail from urban regions\n",
        "\n"
      ],
      "metadata": {
        "id": "6O14s7B3t2PM"
      }
    },
    {
      "cell_type": "code",
      "source": [
        "#Uganda\n",
        "ug = FinData[FinData['country']=='Uganda']\n",
        "ug"
      ],
      "metadata": {
        "colab": {
          "base_uri": "https://localhost:8080/",
          "height": 658
        },
        "id": "_Y1d2uIzpU7U",
        "outputId": "38eec4e5-8e88-4b69-a956-b9c073e2e861"
      },
      "execution_count": 106,
      "outputs": [
        {
          "output_type": "execute_result",
          "data": {
            "text/plain": [
              "      country  year       uniqueid Has a Bank account Type of Location  \\\n",
              "21423  Uganda  2018     uniqueid_1                 No            Rural   \n",
              "21424  Uganda  2018     uniqueid_2                 No            Urban   \n",
              "21425  Uganda  2018     uniqueid_3                 No            Rural   \n",
              "21426  Uganda  2018     uniqueid_4                 No            Rural   \n",
              "21427  Uganda  2018     uniqueid_5                 No            Urban   \n",
              "...       ...   ...            ...                ...              ...   \n",
              "23519  Uganda  2018  uniqueid_2113                 No            Rural   \n",
              "23520  Uganda  2018  uniqueid_2114                 No            Rural   \n",
              "23521  Uganda  2018  uniqueid_2115                 No            Rural   \n",
              "23522  Uganda  2018  uniqueid_2116                 No            Urban   \n",
              "23523  Uganda  2018  uniqueid_2117                 No            Rural   \n",
              "\n",
              "      Cell Phone Access  household_size   Age gender_of_respondent  \\\n",
              "21423                No             5.0  32.0               Female   \n",
              "21424               Yes             8.0  65.0               Female   \n",
              "21425                No             7.0  35.0               Female   \n",
              "21426                No             3.0  25.0               Female   \n",
              "21427               Yes             9.0  18.0               Female   \n",
              "...                 ...             ...   ...                  ...   \n",
              "23519               Yes             4.0  48.0               Female   \n",
              "23520               Yes             2.0  27.0               Female   \n",
              "23521               Yes             5.0  27.0               Female   \n",
              "23522               Yes             7.0  30.0               Female   \n",
              "23523               Yes            10.0  20.0                 Male   \n",
              "\n",
              "      The relationship with head           marital_status  \\\n",
              "21423          Head of Household       Divorced/Seperated   \n",
              "21424          Head of Household                  Widowed   \n",
              "21425                     Spouse  Married/Living together   \n",
              "21426                     Spouse  Married/Living together   \n",
              "21427                     Parent     Single/Never Married   \n",
              "...                          ...                      ...   \n",
              "23519          Head of Household       Divorced/Seperated   \n",
              "23520          Head of Household     Single/Never Married   \n",
              "23521                     Parent                  Widowed   \n",
              "23522                     Parent       Divorced/Seperated   \n",
              "23523                      Child     Single/Never Married   \n",
              "\n",
              "        Level of Education    Type of Job  \n",
              "21423    Primary education   Other Income  \n",
              "21424  Secondary education  Self employed  \n",
              "21425    Primary education  Self employed  \n",
              "21426    Primary education   Other Income  \n",
              "21427  Secondary education   Other Income  \n",
              "...                    ...            ...  \n",
              "23519  No formal education   Other Income  \n",
              "23520  Secondary education   Other Income  \n",
              "23521    Primary education   Other Income  \n",
              "23522  Secondary education  Self employed  \n",
              "23523  Secondary education      No Income  \n",
              "\n",
              "[2095 rows x 13 columns]"
            ],
            "text/html": [
              "\n",
              "  <div id=\"df-13b312d7-e31c-4c98-9b3e-a8636786822f\">\n",
              "    <div class=\"colab-df-container\">\n",
              "      <div>\n",
              "<style scoped>\n",
              "    .dataframe tbody tr th:only-of-type {\n",
              "        vertical-align: middle;\n",
              "    }\n",
              "\n",
              "    .dataframe tbody tr th {\n",
              "        vertical-align: top;\n",
              "    }\n",
              "\n",
              "    .dataframe thead th {\n",
              "        text-align: right;\n",
              "    }\n",
              "</style>\n",
              "<table border=\"1\" class=\"dataframe\">\n",
              "  <thead>\n",
              "    <tr style=\"text-align: right;\">\n",
              "      <th></th>\n",
              "      <th>country</th>\n",
              "      <th>year</th>\n",
              "      <th>uniqueid</th>\n",
              "      <th>Has a Bank account</th>\n",
              "      <th>Type of Location</th>\n",
              "      <th>Cell Phone Access</th>\n",
              "      <th>household_size</th>\n",
              "      <th>Age</th>\n",
              "      <th>gender_of_respondent</th>\n",
              "      <th>The relationship with head</th>\n",
              "      <th>marital_status</th>\n",
              "      <th>Level of Education</th>\n",
              "      <th>Type of Job</th>\n",
              "    </tr>\n",
              "  </thead>\n",
              "  <tbody>\n",
              "    <tr>\n",
              "      <th>21423</th>\n",
              "      <td>Uganda</td>\n",
              "      <td>2018</td>\n",
              "      <td>uniqueid_1</td>\n",
              "      <td>No</td>\n",
              "      <td>Rural</td>\n",
              "      <td>No</td>\n",
              "      <td>5.0</td>\n",
              "      <td>32.0</td>\n",
              "      <td>Female</td>\n",
              "      <td>Head of Household</td>\n",
              "      <td>Divorced/Seperated</td>\n",
              "      <td>Primary education</td>\n",
              "      <td>Other Income</td>\n",
              "    </tr>\n",
              "    <tr>\n",
              "      <th>21424</th>\n",
              "      <td>Uganda</td>\n",
              "      <td>2018</td>\n",
              "      <td>uniqueid_2</td>\n",
              "      <td>No</td>\n",
              "      <td>Urban</td>\n",
              "      <td>Yes</td>\n",
              "      <td>8.0</td>\n",
              "      <td>65.0</td>\n",
              "      <td>Female</td>\n",
              "      <td>Head of Household</td>\n",
              "      <td>Widowed</td>\n",
              "      <td>Secondary education</td>\n",
              "      <td>Self employed</td>\n",
              "    </tr>\n",
              "    <tr>\n",
              "      <th>21425</th>\n",
              "      <td>Uganda</td>\n",
              "      <td>2018</td>\n",
              "      <td>uniqueid_3</td>\n",
              "      <td>No</td>\n",
              "      <td>Rural</td>\n",
              "      <td>No</td>\n",
              "      <td>7.0</td>\n",
              "      <td>35.0</td>\n",
              "      <td>Female</td>\n",
              "      <td>Spouse</td>\n",
              "      <td>Married/Living together</td>\n",
              "      <td>Primary education</td>\n",
              "      <td>Self employed</td>\n",
              "    </tr>\n",
              "    <tr>\n",
              "      <th>21426</th>\n",
              "      <td>Uganda</td>\n",
              "      <td>2018</td>\n",
              "      <td>uniqueid_4</td>\n",
              "      <td>No</td>\n",
              "      <td>Rural</td>\n",
              "      <td>No</td>\n",
              "      <td>3.0</td>\n",
              "      <td>25.0</td>\n",
              "      <td>Female</td>\n",
              "      <td>Spouse</td>\n",
              "      <td>Married/Living together</td>\n",
              "      <td>Primary education</td>\n",
              "      <td>Other Income</td>\n",
              "    </tr>\n",
              "    <tr>\n",
              "      <th>21427</th>\n",
              "      <td>Uganda</td>\n",
              "      <td>2018</td>\n",
              "      <td>uniqueid_5</td>\n",
              "      <td>No</td>\n",
              "      <td>Urban</td>\n",
              "      <td>Yes</td>\n",
              "      <td>9.0</td>\n",
              "      <td>18.0</td>\n",
              "      <td>Female</td>\n",
              "      <td>Parent</td>\n",
              "      <td>Single/Never Married</td>\n",
              "      <td>Secondary education</td>\n",
              "      <td>Other Income</td>\n",
              "    </tr>\n",
              "    <tr>\n",
              "      <th>...</th>\n",
              "      <td>...</td>\n",
              "      <td>...</td>\n",
              "      <td>...</td>\n",
              "      <td>...</td>\n",
              "      <td>...</td>\n",
              "      <td>...</td>\n",
              "      <td>...</td>\n",
              "      <td>...</td>\n",
              "      <td>...</td>\n",
              "      <td>...</td>\n",
              "      <td>...</td>\n",
              "      <td>...</td>\n",
              "      <td>...</td>\n",
              "    </tr>\n",
              "    <tr>\n",
              "      <th>23519</th>\n",
              "      <td>Uganda</td>\n",
              "      <td>2018</td>\n",
              "      <td>uniqueid_2113</td>\n",
              "      <td>No</td>\n",
              "      <td>Rural</td>\n",
              "      <td>Yes</td>\n",
              "      <td>4.0</td>\n",
              "      <td>48.0</td>\n",
              "      <td>Female</td>\n",
              "      <td>Head of Household</td>\n",
              "      <td>Divorced/Seperated</td>\n",
              "      <td>No formal education</td>\n",
              "      <td>Other Income</td>\n",
              "    </tr>\n",
              "    <tr>\n",
              "      <th>23520</th>\n",
              "      <td>Uganda</td>\n",
              "      <td>2018</td>\n",
              "      <td>uniqueid_2114</td>\n",
              "      <td>No</td>\n",
              "      <td>Rural</td>\n",
              "      <td>Yes</td>\n",
              "      <td>2.0</td>\n",
              "      <td>27.0</td>\n",
              "      <td>Female</td>\n",
              "      <td>Head of Household</td>\n",
              "      <td>Single/Never Married</td>\n",
              "      <td>Secondary education</td>\n",
              "      <td>Other Income</td>\n",
              "    </tr>\n",
              "    <tr>\n",
              "      <th>23521</th>\n",
              "      <td>Uganda</td>\n",
              "      <td>2018</td>\n",
              "      <td>uniqueid_2115</td>\n",
              "      <td>No</td>\n",
              "      <td>Rural</td>\n",
              "      <td>Yes</td>\n",
              "      <td>5.0</td>\n",
              "      <td>27.0</td>\n",
              "      <td>Female</td>\n",
              "      <td>Parent</td>\n",
              "      <td>Widowed</td>\n",
              "      <td>Primary education</td>\n",
              "      <td>Other Income</td>\n",
              "    </tr>\n",
              "    <tr>\n",
              "      <th>23522</th>\n",
              "      <td>Uganda</td>\n",
              "      <td>2018</td>\n",
              "      <td>uniqueid_2116</td>\n",
              "      <td>No</td>\n",
              "      <td>Urban</td>\n",
              "      <td>Yes</td>\n",
              "      <td>7.0</td>\n",
              "      <td>30.0</td>\n",
              "      <td>Female</td>\n",
              "      <td>Parent</td>\n",
              "      <td>Divorced/Seperated</td>\n",
              "      <td>Secondary education</td>\n",
              "      <td>Self employed</td>\n",
              "    </tr>\n",
              "    <tr>\n",
              "      <th>23523</th>\n",
              "      <td>Uganda</td>\n",
              "      <td>2018</td>\n",
              "      <td>uniqueid_2117</td>\n",
              "      <td>No</td>\n",
              "      <td>Rural</td>\n",
              "      <td>Yes</td>\n",
              "      <td>10.0</td>\n",
              "      <td>20.0</td>\n",
              "      <td>Male</td>\n",
              "      <td>Child</td>\n",
              "      <td>Single/Never Married</td>\n",
              "      <td>Secondary education</td>\n",
              "      <td>No Income</td>\n",
              "    </tr>\n",
              "  </tbody>\n",
              "</table>\n",
              "<p>2095 rows × 13 columns</p>\n",
              "</div>\n",
              "      <button class=\"colab-df-convert\" onclick=\"convertToInteractive('df-13b312d7-e31c-4c98-9b3e-a8636786822f')\"\n",
              "              title=\"Convert this dataframe to an interactive table.\"\n",
              "              style=\"display:none;\">\n",
              "        \n",
              "  <svg xmlns=\"http://www.w3.org/2000/svg\" height=\"24px\"viewBox=\"0 0 24 24\"\n",
              "       width=\"24px\">\n",
              "    <path d=\"M0 0h24v24H0V0z\" fill=\"none\"/>\n",
              "    <path d=\"M18.56 5.44l.94 2.06.94-2.06 2.06-.94-2.06-.94-.94-2.06-.94 2.06-2.06.94zm-11 1L8.5 8.5l.94-2.06 2.06-.94-2.06-.94L8.5 2.5l-.94 2.06-2.06.94zm10 10l.94 2.06.94-2.06 2.06-.94-2.06-.94-.94-2.06-.94 2.06-2.06.94z\"/><path d=\"M17.41 7.96l-1.37-1.37c-.4-.4-.92-.59-1.43-.59-.52 0-1.04.2-1.43.59L10.3 9.45l-7.72 7.72c-.78.78-.78 2.05 0 2.83L4 21.41c.39.39.9.59 1.41.59.51 0 1.02-.2 1.41-.59l7.78-7.78 2.81-2.81c.8-.78.8-2.07 0-2.86zM5.41 20L4 18.59l7.72-7.72 1.47 1.35L5.41 20z\"/>\n",
              "  </svg>\n",
              "      </button>\n",
              "      \n",
              "  <style>\n",
              "    .colab-df-container {\n",
              "      display:flex;\n",
              "      flex-wrap:wrap;\n",
              "      gap: 12px;\n",
              "    }\n",
              "\n",
              "    .colab-df-convert {\n",
              "      background-color: #E8F0FE;\n",
              "      border: none;\n",
              "      border-radius: 50%;\n",
              "      cursor: pointer;\n",
              "      display: none;\n",
              "      fill: #1967D2;\n",
              "      height: 32px;\n",
              "      padding: 0 0 0 0;\n",
              "      width: 32px;\n",
              "    }\n",
              "\n",
              "    .colab-df-convert:hover {\n",
              "      background-color: #E2EBFA;\n",
              "      box-shadow: 0px 1px 2px rgba(60, 64, 67, 0.3), 0px 1px 3px 1px rgba(60, 64, 67, 0.15);\n",
              "      fill: #174EA6;\n",
              "    }\n",
              "\n",
              "    [theme=dark] .colab-df-convert {\n",
              "      background-color: #3B4455;\n",
              "      fill: #D2E3FC;\n",
              "    }\n",
              "\n",
              "    [theme=dark] .colab-df-convert:hover {\n",
              "      background-color: #434B5C;\n",
              "      box-shadow: 0px 1px 3px 1px rgba(0, 0, 0, 0.15);\n",
              "      filter: drop-shadow(0px 1px 2px rgba(0, 0, 0, 0.3));\n",
              "      fill: #FFFFFF;\n",
              "    }\n",
              "  </style>\n",
              "\n",
              "      <script>\n",
              "        const buttonEl =\n",
              "          document.querySelector('#df-13b312d7-e31c-4c98-9b3e-a8636786822f button.colab-df-convert');\n",
              "        buttonEl.style.display =\n",
              "          google.colab.kernel.accessAllowed ? 'block' : 'none';\n",
              "\n",
              "        async function convertToInteractive(key) {\n",
              "          const element = document.querySelector('#df-13b312d7-e31c-4c98-9b3e-a8636786822f');\n",
              "          const dataTable =\n",
              "            await google.colab.kernel.invokeFunction('convertToInteractive',\n",
              "                                                     [key], {});\n",
              "          if (!dataTable) return;\n",
              "\n",
              "          const docLinkHtml = 'Like what you see? Visit the ' +\n",
              "            '<a target=\"_blank\" href=https://colab.research.google.com/notebooks/data_table.ipynb>data table notebook</a>'\n",
              "            + ' to learn more about interactive tables.';\n",
              "          element.innerHTML = '';\n",
              "          dataTable['output_type'] = 'display_data';\n",
              "          await google.colab.output.renderOutput(dataTable, element);\n",
              "          const docLink = document.createElement('div');\n",
              "          docLink.innerHTML = docLinkHtml;\n",
              "          element.appendChild(docLink);\n",
              "        }\n",
              "      </script>\n",
              "    </div>\n",
              "  </div>\n",
              "  "
            ]
          },
          "metadata": {},
          "execution_count": 106
        }
      ]
    },
    {
      "cell_type": "code",
      "source": [
        "ug['Has a Bank account'].value_counts().plot.bar(title=\"Has a bank account in Uganda\")"
      ],
      "metadata": {
        "colab": {
          "base_uri": "https://localhost:8080/",
          "height": 304
        },
        "id": "GIKfY-7Rt7hk",
        "outputId": "56a2d199-0092-42cc-9403-4c82c8e6e888"
      },
      "execution_count": 110,
      "outputs": [
        {
          "output_type": "execute_result",
          "data": {
            "text/plain": [
              "<matplotlib.axes._subplots.AxesSubplot at 0x7fb9006dddd0>"
            ]
          },
          "metadata": {},
          "execution_count": 110
        },
        {
          "output_type": "display_data",
          "data": {
            "text/plain": [
              "<Figure size 432x288 with 1 Axes>"
            ],
            "image/png": "[encoded data removed]"
          },
          "metadata": {
            "needs_background": "light"
          }
        }
      ]
    },
    {
      "cell_type": "code",
      "source": [
        "ug['Level of Education'].value_counts().plot.bar(title=\"Level of Education In Uganda\")"
      ],
      "metadata": {
        "colab": {
          "base_uri": "https://localhost:8080/",
          "height": 442
        },
        "id": "fQQv4kvKt7LS",
        "outputId": "f9c4ec13-f7d9-4c55-d232-6db99afd6b6c"
      },
      "execution_count": 107,
      "outputs": [
        {
          "output_type": "execute_result",
          "data": {
            "text/plain": [
              "<matplotlib.axes._subplots.AxesSubplot at 0x7fb8fe08dd90>"
            ]
          },
          "metadata": {},
          "execution_count": 107
        },
        {
          "output_type": "display_data",
          "data": {
            "text/plain": [
              "<Figure size 432x288 with 1 Axes>"
            ],
            "image/png": "[encoded data removed]"
          },
          "metadata": {
            "needs_background": "light"
          }
        }
      ]
    },
    {
      "cell_type": "code",
      "source": [
        "ug['Type of Job'].value_counts().plot.bar(title=\"Job distribution in Uganda\")"
      ],
      "metadata": {
        "colab": {
          "base_uri": "https://localhost:8080/",
          "height": 432
        },
        "id": "bfwg28AGt7RH",
        "outputId": "426b7b38-cb07-4eb9-803d-4c614db2493c"
      },
      "execution_count": 108,
      "outputs": [
        {
          "output_type": "execute_result",
          "data": {
            "text/plain": [
              "<matplotlib.axes._subplots.AxesSubplot at 0x7fb8fe00d5d0>"
            ]
          },
          "metadata": {},
          "execution_count": 108
        },
        {
          "output_type": "display_data",
          "data": {
            "text/plain": [
              "<Figure size 432x288 with 1 Axes>"
            ],
            "image/png": "[encoded data removed]"
          },
          "metadata": {
            "needs_background": "light"
          }
        }
      ]
    },
    {
      "cell_type": "code",
      "source": [
        "ug['Type of Location'].value_counts().plot.bar(title=\"Location distribution in Uganda\")"
      ],
      "metadata": {
        "colab": {
          "base_uri": "https://localhost:8080/",
          "height": 319
        },
        "id": "EjzKX7gGt7Xk",
        "outputId": "33c0204a-48e3-43ee-a76b-c4d5c6584b01"
      },
      "execution_count": 109,
      "outputs": [
        {
          "output_type": "execute_result",
          "data": {
            "text/plain": [
              "<matplotlib.axes._subplots.AxesSubplot at 0x7fb8fe176f10>"
            ]
          },
          "metadata": {},
          "execution_count": 109
        },
        {
          "output_type": "display_data",
          "data": {
            "text/plain": [
              "<Figure size 432x288 with 1 Axes>"
            ],
            "image/png": "[encoded data removed]"
          },
          "metadata": {
            "needs_background": "light"
          }
        }
      ]
    },
    {
      "cell_type": "markdown",
      "source": [
        "**Observation**\n",
        "\n",
        "\n",
        "An extreme number of the respondants from Uganda do not have bank accounts\n",
        "\n",
        "More respondants from Uganda pursue vocational training than tertiary education\n",
        "\n",
        "Most of the respondants from Uganda are self-employed\n",
        "\n",
        "Most of the respondants from Uganda come from the rural regions"
      ],
      "metadata": {
        "id": "DmECvl6Ct78I"
      }
    },
    {
      "cell_type": "markdown",
      "source": [
        "### **Bivariate Analysis**"
      ],
      "metadata": {
        "id": "5HToMIyrCqXx"
      }
    },
    {
      "cell_type": "code",
      "source": [
        "#creating a corelation matrix\n",
        "\n",
        "plt.figure(figsize=(12, 8))\n",
        "\n",
        "FinData_corr = FinData.corr()\n",
        "sns.heatmap(FinData_corr, \n",
        "            xticklabels = FinData_corr.columns.values,\n",
        "            yticklabels =FinData_corr.columns.values,\n",
        "            annot = True);"
      ],
      "metadata": {
        "colab": {
          "base_uri": "https://localhost:8080/",
          "height": 488
        },
        "id": "NSgZ9CSpDXw2",
        "outputId": "29dcbd21-2fee-4b80-c960-554e30d321d4"
      },
      "execution_count": null,
      "outputs": [
        {
          "output_type": "display_data",
          "data": {
            "text/plain": [
              "<Figure size 864x576 with 2 Axes>"
            ],
            "image/png": "[encoded data removed]"
          },
          "metadata": {
            "needs_background": "light"
          }
        }
      ]
    },
    {
      "cell_type": "markdown",
      "source": [
        ""
      ],
      "metadata": {
        "id": "fKQWWBeQlO4p"
      }
    },
    {
      "cell_type": "code",
      "source": [
        "plt.figure(figsize=(25,50))\n",
        "\n",
        "sns.pairplot(FinData, diag_kind='kde')"
      ],
      "metadata": {
        "id": "HBYrLjPODYAM",
        "colab": {
          "base_uri": "https://localhost:8080/",
          "height": 585
        },
        "outputId": "54595370-d2d6-44e9-bb32-a88349fec769"
      },
      "execution_count": 112,
      "outputs": [
        {
          "output_type": "execute_result",
          "data": {
            "text/plain": [
              "<seaborn.axisgrid.PairGrid at 0x7fb8f95f7ad0>"
            ]
          },
          "metadata": {},
          "execution_count": 112
        },
        {
          "output_type": "display_data",
          "data": {
            "text/plain": [
              "<Figure size 1800x3600 with 0 Axes>"
            ]
          },
          "metadata": {}
        },
        {
          "output_type": "display_data",
          "data": {
            "text/plain": [
              "<Figure size 540x540 with 12 Axes>"
            ],
            "image/png": "[encoded data removed]"
          },
          "metadata": {
            "needs_background": "light"
          }
        }
      ]
    },
    {
      "cell_type": "markdown",
      "source": [
        "the correlations are weak"
      ],
      "metadata": {
        "id": "5Okot1sg6MyV"
      }
    },
    {
      "cell_type": "code",
      "source": [
        "#creating countplots for each column with the bank account column since it is our target column\n",
        "\n",
        "f, axes = plt.subplots(5, 1, figsize=[20,60])\n",
        "\n",
        "plt.rcParams['font.size'] = '16'\n",
        "sns.countplot('Type of Location', hue= 'Has a Bank account', data=FinData, ax=axes[0])\n",
        "sns.countplot('gender_of_respondent', hue= 'Has a Bank account', data=FinData, ax=axes[1])\n",
        "sns.countplot('Cell Phone Access', hue= 'Has a Bank account', data=FinData, ax=axes[2])\n",
        "sns.countplot('marital_status', hue= 'Has a Bank account', data=FinData, ax=axes[3])\n",
        "sns.countplot('Type of Job', hue= 'Has a Bank account', data=FinData, ax=axes[4])\n",
        "\n",
        "#adding titles to the plot\n",
        "\n",
        "axes[0].set_title(\"Distribution of location against bank account\")\n",
        "axes[1].set_title(\"Distribution of gender against bank account\")\n",
        "axes[2].set_title(\"Distribution of cell phone access against bank account\")\n",
        "axes[3].set_title(\"Distribution of marital status against bank account\")\n",
        "axes[4].set_title(\"Distribution of type of job against bank account\")\n"
      ],
      "metadata": {
        "colab": {
          "base_uri": "https://localhost:8080/",
          "height": 1000
        },
        "id": "zorBUgWhDX7k",
        "outputId": "031ac50a-3eba-418d-e011-a1da21330ae6"
      },
      "execution_count": 119,
      "outputs": [
        {
          "output_type": "stream",
          "name": "stderr",
          "text": [
            "/usr/local/lib/python3.7/dist-packages/seaborn/_decorators.py:43: FutureWarning: Pass the following variable as a keyword arg: x. From version 0.12, the only valid positional argument will be `data`, and passing other arguments without an explicit keyword will result in an error or misinterpretation.\n",
            "  FutureWarning\n",
            "/usr/local/lib/python3.7/dist-packages/seaborn/_decorators.py:43: FutureWarning: Pass the following variable as a keyword arg: x. From version 0.12, the only valid positional argument will be `data`, and passing other arguments without an explicit keyword will result in an error or misinterpretation.\n",
            "  FutureWarning\n",
            "/usr/local/lib/python3.7/dist-packages/seaborn/_decorators.py:43: FutureWarning: Pass the following variable as a keyword arg: x. From version 0.12, the only valid positional argument will be `data`, and passing other arguments without an explicit keyword will result in an error or misinterpretation.\n",
            "  FutureWarning\n",
            "/usr/local/lib/python3.7/dist-packages/seaborn/_decorators.py:43: FutureWarning: Pass the following variable as a keyword arg: x. From version 0.12, the only valid positional argument will be `data`, and passing other arguments without an explicit keyword will result in an error or misinterpretation.\n",
            "  FutureWarning\n",
            "/usr/local/lib/python3.7/dist-packages/seaborn/_decorators.py:43: FutureWarning: Pass the following variable as a keyword arg: x. From version 0.12, the only valid positional argument will be `data`, and passing other arguments without an explicit keyword will result in an error or misinterpretation.\n",
            "  FutureWarning\n"
          ]
        },
        {
          "output_type": "execute_result",
          "data": {
            "text/plain": [
              "Text(0.5, 1.0, 'Distribution of type of job against bank account')"
            ]
          },
          "metadata": {},
          "execution_count": 119
        },
        {
          "output_type": "display_data",
          "data": {
            "text/plain": [
              "<Figure size 1440x4320 with 5 Axes>"
            ],
            "image/png": "[encoded data removed]"
          },
          "metadata": {
            "needs_background": "light"
          }
        }
      ]
    },
    {
      "cell_type": "markdown",
      "source": [
        "**Observations**\n",
        "\n",
        "Respondants from urban areas have slighty more bank accounts than those in rural areas since most industries, companies, offices and jobs in general are located in the urban areas\n",
        "\n",
        "Respondants who are married are likely to have bank accounts, followed by those who are single. This may be due to the fact that married couples bring in income from two resources while single people do not have that many needs\n",
        "\n",
        "People who are self employed have the lowest demographic of people with bank accounts as they put the money earned into their businesses\n"
      ],
      "metadata": {
        "id": "Ae0-3ofklU4d"
      }
    },
    {
      "cell_type": "markdown",
      "source": [
        "### **Multivariate Analysis**"
      ],
      "metadata": {
        "id": "7nciUpFdC7uJ"
      }
    },
    {
      "cell_type": "markdown",
      "source": [
        "**Linear Discriminant Analysis**"
      ],
      "metadata": {
        "id": "uXaEiGxq96g6"
      }
    },
    {
      "cell_type": "code",
      "source": [
        "#Separating target label of users with bank accounts from other features\n",
        "\n",
        "feat = FinData.drop(['Has a Bank account', 'country', 'year', 'uniqueid' ], 1)\n",
        "bank_label = FinData['Has a Bank account']\n",
        "feat"
      ],
      "metadata": {
        "id": "EVxlmvAdDZrI",
        "colab": {
          "base_uri": "https://localhost:8080/",
          "height": 592
        },
        "outputId": "94edd6b4-b4bb-4c53-a074-76f20a62b9d8"
      },
      "execution_count": 124,
      "outputs": [
        {
          "output_type": "stream",
          "name": "stderr",
          "text": [
            "/usr/local/lib/python3.7/dist-packages/ipykernel_launcher.py:1: FutureWarning: In a future version of pandas all arguments of DataFrame.drop except for the argument 'labels' will be keyword-only\n",
            "  \"\"\"Entry point for launching an IPython kernel.\n"
          ]
        },
        {
          "output_type": "execute_result",
          "data": {
            "text/plain": [
              "      Type of Location Cell Phone Access  household_size   Age  \\\n",
              "0                Rural               Yes             3.0  24.0   \n",
              "1                Rural                No             5.0  70.0   \n",
              "2                Urban               Yes             5.0  26.0   \n",
              "3                Rural               Yes             5.0  34.0   \n",
              "4                Urban                No             8.0  26.0   \n",
              "...                ...               ...             ...   ...   \n",
              "23519            Rural               Yes             4.0  48.0   \n",
              "23520            Rural               Yes             2.0  27.0   \n",
              "23521            Rural               Yes             5.0  27.0   \n",
              "23522            Urban               Yes             7.0  30.0   \n",
              "23523            Rural               Yes            10.0  20.0   \n",
              "\n",
              "      gender_of_respondent The relationship with head  \\\n",
              "0                   Female                     Spouse   \n",
              "1                   Female          Head of Household   \n",
              "2                     Male             Other relative   \n",
              "3                   Female          Head of Household   \n",
              "4                     Male                      Child   \n",
              "...                    ...                        ...   \n",
              "23519               Female          Head of Household   \n",
              "23520               Female          Head of Household   \n",
              "23521               Female                     Parent   \n",
              "23522               Female                     Parent   \n",
              "23523                 Male                      Child   \n",
              "\n",
              "                marital_status               Level of Education  \\\n",
              "0      Married/Living together              Secondary education   \n",
              "1                      Widowed              No formal education   \n",
              "2         Single/Never Married  Vocational/Specialised training   \n",
              "3      Married/Living together                Primary education   \n",
              "4         Single/Never Married                Primary education   \n",
              "...                        ...                              ...   \n",
              "23519       Divorced/Seperated              No formal education   \n",
              "23520     Single/Never Married              Secondary education   \n",
              "23521                  Widowed                Primary education   \n",
              "23522       Divorced/Seperated              Secondary education   \n",
              "23523     Single/Never Married              Secondary education   \n",
              "\n",
              "                     Type of Job  \n",
              "0                  Self employed  \n",
              "1           Government Dependent  \n",
              "2                  Self employed  \n",
              "3      Formally employed Private  \n",
              "4            Informally employed  \n",
              "...                          ...  \n",
              "23519               Other Income  \n",
              "23520               Other Income  \n",
              "23521               Other Income  \n",
              "23522              Self employed  \n",
              "23523                  No Income  \n",
              "\n",
              "[23343 rows x 9 columns]"
            ],
            "text/html": [
              "\n",
              "  <div id=\"df-052fb0fe-9d1a-426f-a9ff-f14931bfab74\">\n",
              "    <div class=\"colab-df-container\">\n",
              "      <div>\n",
              "<style scoped>\n",
              "    .dataframe tbody tr th:only-of-type {\n",
              "        vertical-align: middle;\n",
              "    }\n",
              "\n",
              "    .dataframe tbody tr th {\n",
              "        vertical-align: top;\n",
              "    }\n",
              "\n",
              "    .dataframe thead th {\n",
              "        text-align: right;\n",
              "    }\n",
              "</style>\n",
              "<table border=\"1\" class=\"dataframe\">\n",
              "  <thead>\n",
              "    <tr style=\"text-align: right;\">\n",
              "      <th></th>\n",
              "      <th>Type of Location</th>\n",
              "      <th>Cell Phone Access</th>\n",
              "      <th>household_size</th>\n",
              "      <th>Age</th>\n",
              "      <th>gender_of_respondent</th>\n",
              "      <th>The relationship with head</th>\n",
              "      <th>marital_status</th>\n",
              "      <th>Level of Education</th>\n",
              "      <th>Type of Job</th>\n",
              "    </tr>\n",
              "  </thead>\n",
              "  <tbody>\n",
              "    <tr>\n",
              "      <th>0</th>\n",
              "      <td>Rural</td>\n",
              "      <td>Yes</td>\n",
              "      <td>3.0</td>\n",
              "      <td>24.0</td>\n",
              "      <td>Female</td>\n",
              "      <td>Spouse</td>\n",
              "      <td>Married/Living together</td>\n",
              "      <td>Secondary education</td>\n",
              "      <td>Self employed</td>\n",
              "    </tr>\n",
              "    <tr>\n",
              "      <th>1</th>\n",
              "      <td>Rural</td>\n",
              "      <td>No</td>\n",
              "      <td>5.0</td>\n",
              "      <td>70.0</td>\n",
              "      <td>Female</td>\n",
              "      <td>Head of Household</td>\n",
              "      <td>Widowed</td>\n",
              "      <td>No formal education</td>\n",
              "      <td>Government Dependent</td>\n",
              "    </tr>\n",
              "    <tr>\n",
              "      <th>2</th>\n",
              "      <td>Urban</td>\n",
              "      <td>Yes</td>\n",
              "      <td>5.0</td>\n",
              "      <td>26.0</td>\n",
              "      <td>Male</td>\n",
              "      <td>Other relative</td>\n",
              "      <td>Single/Never Married</td>\n",
              "      <td>Vocational/Specialised training</td>\n",
              "      <td>Self employed</td>\n",
              "    </tr>\n",
              "    <tr>\n",
              "      <th>3</th>\n",
              "      <td>Rural</td>\n",
              "      <td>Yes</td>\n",
              "      <td>5.0</td>\n",
              "      <td>34.0</td>\n",
              "      <td>Female</td>\n",
              "      <td>Head of Household</td>\n",
              "      <td>Married/Living together</td>\n",
              "      <td>Primary education</td>\n",
              "      <td>Formally employed Private</td>\n",
              "    </tr>\n",
              "    <tr>\n",
              "      <th>4</th>\n",
              "      <td>Urban</td>\n",
              "      <td>No</td>\n",
              "      <td>8.0</td>\n",
              "      <td>26.0</td>\n",
              "      <td>Male</td>\n",
              "      <td>Child</td>\n",
              "      <td>Single/Never Married</td>\n",
              "      <td>Primary education</td>\n",
              "      <td>Informally employed</td>\n",
              "    </tr>\n",
              "    <tr>\n",
              "      <th>...</th>\n",
              "      <td>...</td>\n",
              "      <td>...</td>\n",
              "      <td>...</td>\n",
              "      <td>...</td>\n",
              "      <td>...</td>\n",
              "      <td>...</td>\n",
              "      <td>...</td>\n",
              "      <td>...</td>\n",
              "      <td>...</td>\n",
              "    </tr>\n",
              "    <tr>\n",
              "      <th>23519</th>\n",
              "      <td>Rural</td>\n",
              "      <td>Yes</td>\n",
              "      <td>4.0</td>\n",
              "      <td>48.0</td>\n",
              "      <td>Female</td>\n",
              "      <td>Head of Household</td>\n",
              "      <td>Divorced/Seperated</td>\n",
              "      <td>No formal education</td>\n",
              "      <td>Other Income</td>\n",
              "    </tr>\n",
              "    <tr>\n",
              "      <th>23520</th>\n",
              "      <td>Rural</td>\n",
              "      <td>Yes</td>\n",
              "      <td>2.0</td>\n",
              "      <td>27.0</td>\n",
              "      <td>Female</td>\n",
              "      <td>Head of Household</td>\n",
              "      <td>Single/Never Married</td>\n",
              "      <td>Secondary education</td>\n",
              "      <td>Other Income</td>\n",
              "    </tr>\n",
              "    <tr>\n",
              "      <th>23521</th>\n",
              "      <td>Rural</td>\n",
              "      <td>Yes</td>\n",
              "      <td>5.0</td>\n",
              "      <td>27.0</td>\n",
              "      <td>Female</td>\n",
              "      <td>Parent</td>\n",
              "      <td>Widowed</td>\n",
              "      <td>Primary education</td>\n",
              "      <td>Other Income</td>\n",
              "    </tr>\n",
              "    <tr>\n",
              "      <th>23522</th>\n",
              "      <td>Urban</td>\n",
              "      <td>Yes</td>\n",
              "      <td>7.0</td>\n",
              "      <td>30.0</td>\n",
              "      <td>Female</td>\n",
              "      <td>Parent</td>\n",
              "      <td>Divorced/Seperated</td>\n",
              "      <td>Secondary education</td>\n",
              "      <td>Self employed</td>\n",
              "    </tr>\n",
              "    <tr>\n",
              "      <th>23523</th>\n",
              "      <td>Rural</td>\n",
              "      <td>Yes</td>\n",
              "      <td>10.0</td>\n",
              "      <td>20.0</td>\n",
              "      <td>Male</td>\n",
              "      <td>Child</td>\n",
              "      <td>Single/Never Married</td>\n",
              "      <td>Secondary education</td>\n",
              "      <td>No Income</td>\n",
              "    </tr>\n",
              "  </tbody>\n",
              "</table>\n",
              "<p>23343 rows × 9 columns</p>\n",
              "</div>\n",
              "      <button class=\"colab-df-convert\" onclick=\"convertToInteractive('df-052fb0fe-9d1a-426f-a9ff-f14931bfab74')\"\n",
              "              title=\"Convert this dataframe to an interactive table.\"\n",
              "              style=\"display:none;\">\n",
              "        \n",
              "  <svg xmlns=\"http://www.w3.org/2000/svg\" height=\"24px\"viewBox=\"0 0 24 24\"\n",
              "       width=\"24px\">\n",
              "    <path d=\"M0 0h24v24H0V0z\" fill=\"none\"/>\n",
              "    <path d=\"M18.56 5.44l.94 2.06.94-2.06 2.06-.94-2.06-.94-.94-2.06-.94 2.06-2.06.94zm-11 1L8.5 8.5l.94-2.06 2.06-.94-2.06-.94L8.5 2.5l-.94 2.06-2.06.94zm10 10l.94 2.06.94-2.06 2.06-.94-2.06-.94-.94-2.06-.94 2.06-2.06.94z\"/><path d=\"M17.41 7.96l-1.37-1.37c-.4-.4-.92-.59-1.43-.59-.52 0-1.04.2-1.43.59L10.3 9.45l-7.72 7.72c-.78.78-.78 2.05 0 2.83L4 21.41c.39.39.9.59 1.41.59.51 0 1.02-.2 1.41-.59l7.78-7.78 2.81-2.81c.8-.78.8-2.07 0-2.86zM5.41 20L4 18.59l7.72-7.72 1.47 1.35L5.41 20z\"/>\n",
              "  </svg>\n",
              "      </button>\n",
              "      \n",
              "  <style>\n",
              "    .colab-df-container {\n",
              "      display:flex;\n",
              "      flex-wrap:wrap;\n",
              "      gap: 12px;\n",
              "    }\n",
              "\n",
              "    .colab-df-convert {\n",
              "      background-color: #E8F0FE;\n",
              "      border: none;\n",
              "      border-radius: 50%;\n",
              "      cursor: pointer;\n",
              "      display: none;\n",
              "      fill: #1967D2;\n",
              "      height: 32px;\n",
              "      padding: 0 0 0 0;\n",
              "      width: 32px;\n",
              "    }\n",
              "\n",
              "    .colab-df-convert:hover {\n",
              "      background-color: #E2EBFA;\n",
              "      box-shadow: 0px 1px 2px rgba(60, 64, 67, 0.3), 0px 1px 3px 1px rgba(60, 64, 67, 0.15);\n",
              "      fill: #174EA6;\n",
              "    }\n",
              "\n",
              "    [theme=dark] .colab-df-convert {\n",
              "      background-color: #3B4455;\n",
              "      fill: #D2E3FC;\n",
              "    }\n",
              "\n",
              "    [theme=dark] .colab-df-convert:hover {\n",
              "      background-color: #434B5C;\n",
              "      box-shadow: 0px 1px 3px 1px rgba(0, 0, 0, 0.15);\n",
              "      filter: drop-shadow(0px 1px 2px rgba(0, 0, 0, 0.3));\n",
              "      fill: #FFFFFF;\n",
              "    }\n",
              "  </style>\n",
              "\n",
              "      <script>\n",
              "        const buttonEl =\n",
              "          document.querySelector('#df-052fb0fe-9d1a-426f-a9ff-f14931bfab74 button.colab-df-convert');\n",
              "        buttonEl.style.display =\n",
              "          google.colab.kernel.accessAllowed ? 'block' : 'none';\n",
              "\n",
              "        async function convertToInteractive(key) {\n",
              "          const element = document.querySelector('#df-052fb0fe-9d1a-426f-a9ff-f14931bfab74');\n",
              "          const dataTable =\n",
              "            await google.colab.kernel.invokeFunction('convertToInteractive',\n",
              "                                                     [key], {});\n",
              "          if (!dataTable) return;\n",
              "\n",
              "          const docLinkHtml = 'Like what you see? Visit the ' +\n",
              "            '<a target=\"_blank\" href=https://colab.research.google.com/notebooks/data_table.ipynb>data table notebook</a>'\n",
              "            + ' to learn more about interactive tables.';\n",
              "          element.innerHTML = '';\n",
              "          dataTable['output_type'] = 'display_data';\n",
              "          await google.colab.output.renderOutput(dataTable, element);\n",
              "          const docLink = document.createElement('div');\n",
              "          docLink.innerHTML = docLinkHtml;\n",
              "          element.appendChild(docLink);\n",
              "        }\n",
              "      </script>\n",
              "    </div>\n",
              "  </div>\n",
              "  "
            ]
          },
          "metadata": {},
          "execution_count": 124
        }
      ]
    },
    {
      "cell_type": "code",
      "source": [
        "#create an instant from LDA \n",
        "from sklearn.discriminant_analysis import LinearDiscriminantAnalysis as LDA\n",
        "\n",
        "lda = LDA()\n",
        "lda_= lda.fit(feat, bank_label)\n",
        "lda_feat = lda_.transform()\n",
        "\n",
        "#display coefficients of the reducted column\n",
        "lda_.coef_"
      ],
      "metadata": {
        "id": "WzHFAr5yDZtp"
      },
      "execution_count": 135,
      "outputs": []
    },
    {
      "cell_type": "code",
      "source": [
        "#create a dataframe to extract the names of the columns since the coefficients are in an array\n",
        "\n",
        "f_imp = pd.DataFrame(index=feat.columns.values, data=lda_.coef_[0].T)\n",
        "f_imp.sort_values(0, ascending=False)"
      ],
      "metadata": {
        "id": "6cUyCG-VDZwM"
      },
      "execution_count": 136,
      "outputs": []
    },
    {
      "cell_type": "markdown",
      "source": [
        "## **Conclusions**"
      ],
      "metadata": {
        "id": "jhJvHokoDCU9"
      }
    },
    {
      "cell_type": "markdown",
      "source": [
        "From our analysis , it is safe to conclude that we can use linear combination of the following features to comfortably predict if an individual has a bank account\n",
        "\n",
        "\n",
        "\n",
        "*   Cell Phone access\n",
        "*   Level of Education\n",
        "*   Responent_Age\n",
        "*   gender_of_respondent\n",
        "*   Type of location \n",
        "\n"
      ],
      "metadata": {
        "id": "LLCEQ_C4GGsx"
      }
    },
    {
      "cell_type": "markdown",
      "source": [
        "## **Recommendations**"
      ],
      "metadata": {
        "id": "bWoWP58sG7Un"
      }
    },
    {
      "cell_type": "markdown",
      "source": [
        "\n",
        "More resources should be put into rural areas of all countries so as to increase the financial inclusion of more East African citizens.\n",
        "\n",
        "Fintech companies should have special saving groups for young youth, married couples, women and self-employed/business owners as these are the target people for credit worthiness.\n",
        "\n",
        "For the general economic growth, the education sector must improve the sensitization on financial literacy from primary school since a large number of people complete primary school.\n"
      ],
      "metadata": {
        "id": "HGd7zQCtHATw"
      }
    }
  ]
}